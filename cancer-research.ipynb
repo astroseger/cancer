{
 "cells": [
  {
   "cell_type": "code",
   "execution_count": 2,
   "metadata": {},
   "outputs": [],
   "source": [
    "import sys\n",
    "import os\n",
    "import lzma\n",
    "import random\n",
    "from collections import defaultdict"
   ]
  },
  {
   "cell_type": "code",
   "execution_count": 3,
   "metadata": {},
   "outputs": [],
   "source": [
    "import numpy\n",
    "import pandas"
   ]
  },
  {
   "cell_type": "code",
   "execution_count": null,
   "metadata": {},
   "outputs": [],
   "source": [
    "import xgboost as xgb"
   ]
  },
  {
   "cell_type": "code",
   "execution_count": 5,
   "metadata": {},
   "outputs": [],
   "source": [
    "from sklearn.metrics import precision_recall_curve, auc\n",
    "from sklearn.metrics import f1_score"
   ]
  },
  {
   "cell_type": "code",
   "execution_count": null,
   "metadata": {},
   "outputs": [],
   "source": [
    "from catboost import Pool, CatBoostClassifier\n",
    "import catboost"
   ]
  },
  {
   "cell_type": "code",
   "execution_count": 4,
   "metadata": {},
   "outputs": [],
   "source": [
    "cancer_data_dir = '/home/leron/projects/cancer/data'\n",
    "dump_dir = os.path.join(cancer_data_dir, 'bcDump/example15bmc')\n",
    "merged_path = os.path.join(dump_dir, 'ex15bmcMerged.csv.xz')\n",
    "bmc_all_path = os.path.join(dump_dir, 'bmc15mldata1.csv')"
   ]
  },
  {
   "cell_type": "code",
   "execution_count": null,
   "metadata": {},
   "outputs": [],
   "source": []
  },
  {
   "cell_type": "code",
   "execution_count": 5,
   "metadata": {},
   "outputs": [],
   "source": [
    "dtype = {'DFS': pandas.Int64Dtype(),\n",
    "         'pCR': pandas.Int64Dtype(),\n",
    "         'RFS': pandas.Int64Dtype(), \n",
    "         'DFS': pandas.Int64Dtype(), \n",
    "         'posOutcome': pandas.Int64Dtype()}"
   ]
  },
  {
   "cell_type": "code",
   "execution_count": 6,
   "metadata": {},
   "outputs": [],
   "source": [
    "surgery_mapping = dict()"
   ]
  },
  {
   "cell_type": "code",
   "execution_count": 7,
   "metadata": {},
   "outputs": [],
   "source": [
    "def convert_surgery(x):\n",
    "    if x not in surgery_mapping:\n",
    "        surgery_mapping[x] = len(surgery_mapping) + 1\n",
    "    return surgery_mapping[x]"
   ]
  },
  {
   "cell_type": "code",
   "execution_count": 8,
   "metadata": {},
   "outputs": [],
   "source": [
    "bmc = pandas.read_csv(bmc_all_path, dtype=dtype, converters=dict(surgery=convert_surgery))\n",
    "bmc = bmc.sort_values(by='patient_ID')"
   ]
  },
  {
   "cell_type": "code",
   "execution_count": 11,
   "metadata": {},
   "outputs": [],
   "source": [
    "gene_expression = pandas.read_csv(lzma.open(merged_path))"
   ]
  },
  {
   "cell_type": "code",
   "execution_count": 12,
   "metadata": {},
   "outputs": [
    {
     "data": {
      "text/html": [
       "<div>\n",
       "<style scoped>\n",
       "    .dataframe tbody tr th:only-of-type {\n",
       "        vertical-align: middle;\n",
       "    }\n",
       "\n",
       "    .dataframe tbody tr th {\n",
       "        vertical-align: top;\n",
       "    }\n",
       "\n",
       "    .dataframe thead th {\n",
       "        text-align: right;\n",
       "    }\n",
       "</style>\n",
       "<table border=\"1\" class=\"dataframe\">\n",
       "  <thead>\n",
       "    <tr style=\"text-align: right;\">\n",
       "      <th></th>\n",
       "      <th>patient_ID</th>\n",
       "      <th>MAGEA12</th>\n",
       "      <th>MAGEA11</th>\n",
       "      <th>KLF1</th>\n",
       "      <th>ADH7</th>\n",
       "      <th>MSH4</th>\n",
       "      <th>BIRC3</th>\n",
       "      <th>AKR1C4</th>\n",
       "      <th>GBX2</th>\n",
       "      <th>GCGR</th>\n",
       "      <th>...</th>\n",
       "      <th>ZNF80</th>\n",
       "      <th>ZNF83</th>\n",
       "      <th>ZNF84</th>\n",
       "      <th>ZNF91</th>\n",
       "      <th>ZNHIT2</th>\n",
       "      <th>ZSCAN2</th>\n",
       "      <th>ZXDC</th>\n",
       "      <th>ZYX</th>\n",
       "      <th>ZZEF1</th>\n",
       "      <th>ZZZ3</th>\n",
       "    </tr>\n",
       "  </thead>\n",
       "  <tbody>\n",
       "    <tr>\n",
       "      <th>0</th>\n",
       "      <td>22449</td>\n",
       "      <td>-0.118953</td>\n",
       "      <td>1.180345</td>\n",
       "      <td>0.252643</td>\n",
       "      <td>-0.262987</td>\n",
       "      <td>0.142903</td>\n",
       "      <td>0.167314</td>\n",
       "      <td>0.498846</td>\n",
       "      <td>0.774632</td>\n",
       "      <td>0.104353</td>\n",
       "      <td>...</td>\n",
       "      <td>-1.564143</td>\n",
       "      <td>0.466733</td>\n",
       "      <td>0.827552</td>\n",
       "      <td>-0.617981</td>\n",
       "      <td>0.303161</td>\n",
       "      <td>1.260602</td>\n",
       "      <td>-0.217995</td>\n",
       "      <td>0.219529</td>\n",
       "      <td>0.389849</td>\n",
       "      <td>1.313703</td>\n",
       "    </tr>\n",
       "    <tr>\n",
       "      <th>1</th>\n",
       "      <td>22450</td>\n",
       "      <td>0.423693</td>\n",
       "      <td>-0.922374</td>\n",
       "      <td>-1.202192</td>\n",
       "      <td>-0.105451</td>\n",
       "      <td>-0.061571</td>\n",
       "      <td>-0.093231</td>\n",
       "      <td>-0.095550</td>\n",
       "      <td>-0.481403</td>\n",
       "      <td>-0.214238</td>\n",
       "      <td>...</td>\n",
       "      <td>0.711752</td>\n",
       "      <td>0.358388</td>\n",
       "      <td>0.037911</td>\n",
       "      <td>2.304784</td>\n",
       "      <td>0.328942</td>\n",
       "      <td>-1.028791</td>\n",
       "      <td>-0.850002</td>\n",
       "      <td>-0.292574</td>\n",
       "      <td>-0.068982</td>\n",
       "      <td>0.722123</td>\n",
       "    </tr>\n",
       "    <tr>\n",
       "      <th>2</th>\n",
       "      <td>22451</td>\n",
       "      <td>-0.239183</td>\n",
       "      <td>-0.733389</td>\n",
       "      <td>0.523791</td>\n",
       "      <td>-0.081958</td>\n",
       "      <td>-0.004635</td>\n",
       "      <td>-0.008094</td>\n",
       "      <td>0.268636</td>\n",
       "      <td>-0.614192</td>\n",
       "      <td>0.027471</td>\n",
       "      <td>...</td>\n",
       "      <td>-0.011786</td>\n",
       "      <td>-0.474762</td>\n",
       "      <td>-0.349981</td>\n",
       "      <td>-0.097197</td>\n",
       "      <td>0.100946</td>\n",
       "      <td>-0.554700</td>\n",
       "      <td>-0.367363</td>\n",
       "      <td>0.094464</td>\n",
       "      <td>-0.372665</td>\n",
       "      <td>-0.790771</td>\n",
       "    </tr>\n",
       "    <tr>\n",
       "      <th>3</th>\n",
       "      <td>22452</td>\n",
       "      <td>0.500445</td>\n",
       "      <td>-0.177686</td>\n",
       "      <td>-0.216638</td>\n",
       "      <td>-0.130850</td>\n",
       "      <td>-0.261039</td>\n",
       "      <td>-0.048521</td>\n",
       "      <td>1.479664</td>\n",
       "      <td>-0.100120</td>\n",
       "      <td>0.233178</td>\n",
       "      <td>...</td>\n",
       "      <td>0.757255</td>\n",
       "      <td>0.590212</td>\n",
       "      <td>0.060150</td>\n",
       "      <td>2.287583</td>\n",
       "      <td>-0.108866</td>\n",
       "      <td>-1.132500</td>\n",
       "      <td>-0.106976</td>\n",
       "      <td>-0.216267</td>\n",
       "      <td>0.393671</td>\n",
       "      <td>-0.027349</td>\n",
       "    </tr>\n",
       "    <tr>\n",
       "      <th>4</th>\n",
       "      <td>22453</td>\n",
       "      <td>-0.609235</td>\n",
       "      <td>0.259494</td>\n",
       "      <td>-0.071802</td>\n",
       "      <td>0.027963</td>\n",
       "      <td>0.162509</td>\n",
       "      <td>0.112654</td>\n",
       "      <td>-0.239435</td>\n",
       "      <td>0.229737</td>\n",
       "      <td>-0.132271</td>\n",
       "      <td>...</td>\n",
       "      <td>0.407159</td>\n",
       "      <td>0.570637</td>\n",
       "      <td>0.851658</td>\n",
       "      <td>-0.412950</td>\n",
       "      <td>0.105692</td>\n",
       "      <td>-1.047445</td>\n",
       "      <td>0.084480</td>\n",
       "      <td>-0.224081</td>\n",
       "      <td>-0.021074</td>\n",
       "      <td>0.764555</td>\n",
       "    </tr>\n",
       "  </tbody>\n",
       "</table>\n",
       "<p>5 rows × 8833 columns</p>\n",
       "</div>"
      ],
      "text/plain": [
       "   patient_ID   MAGEA12   MAGEA11      KLF1      ADH7      MSH4     BIRC3  \\\n",
       "0       22449 -0.118953  1.180345  0.252643 -0.262987  0.142903  0.167314   \n",
       "1       22450  0.423693 -0.922374 -1.202192 -0.105451 -0.061571 -0.093231   \n",
       "2       22451 -0.239183 -0.733389  0.523791 -0.081958 -0.004635 -0.008094   \n",
       "3       22452  0.500445 -0.177686 -0.216638 -0.130850 -0.261039 -0.048521   \n",
       "4       22453 -0.609235  0.259494 -0.071802  0.027963  0.162509  0.112654   \n",
       "\n",
       "     AKR1C4      GBX2      GCGR  ...     ZNF80     ZNF83     ZNF84     ZNF91  \\\n",
       "0  0.498846  0.774632  0.104353  ... -1.564143  0.466733  0.827552 -0.617981   \n",
       "1 -0.095550 -0.481403 -0.214238  ...  0.711752  0.358388  0.037911  2.304784   \n",
       "2  0.268636 -0.614192  0.027471  ... -0.011786 -0.474762 -0.349981 -0.097197   \n",
       "3  1.479664 -0.100120  0.233178  ...  0.757255  0.590212  0.060150  2.287583   \n",
       "4 -0.239435  0.229737 -0.132271  ...  0.407159  0.570637  0.851658 -0.412950   \n",
       "\n",
       "     ZNHIT2    ZSCAN2      ZXDC       ZYX     ZZEF1      ZZZ3  \n",
       "0  0.303161  1.260602 -0.217995  0.219529  0.389849  1.313703  \n",
       "1  0.328942 -1.028791 -0.850002 -0.292574 -0.068982  0.722123  \n",
       "2  0.100946 -0.554700 -0.367363  0.094464 -0.372665 -0.790771  \n",
       "3 -0.108866 -1.132500 -0.106976 -0.216267  0.393671 -0.027349  \n",
       "4  0.105692 -1.047445  0.084480 -0.224081 -0.021074  0.764555  \n",
       "\n",
       "[5 rows x 8833 columns]"
      ]
     },
     "execution_count": 12,
     "metadata": {},
     "output_type": "execute_result"
    }
   ],
   "source": [
    "gene_expression.head(5)"
   ]
  },
  {
   "cell_type": "code",
   "execution_count": 13,
   "metadata": {},
   "outputs": [],
   "source": [
    "genes_features = gene_expression[gene_expression.patient_ID.isin(bmc.patient_ID)]"
   ]
  },
  {
   "cell_type": "code",
   "execution_count": 14,
   "metadata": {},
   "outputs": [],
   "source": [
    "genes_features = genes_features.sort_values(by='patient_ID')"
   ]
  },
  {
   "cell_type": "code",
   "execution_count": 15,
   "metadata": {},
   "outputs": [],
   "source": [
    "feature_columns = genes_features.columns.to_list()[1:] + ['radio', 'surgery', 'chemo', 'hormone']\n",
    "label_columns = ['pCR', 'RFS', 'DFS', 'posOutcome']\n",
    "label_columns = ['posOutcome']\n",
    "feature_columns = ['radio', 'surgery', 'chemo', 'hormone']"
   ]
  },
  {
   "cell_type": "code",
   "execution_count": 16,
   "metadata": {},
   "outputs": [],
   "source": [
    "merged = pandas.merge(genes_features, bmc, left_on='patient_ID', right_on='patient_ID')"
   ]
  },
  {
   "cell_type": "code",
   "execution_count": 17,
   "metadata": {},
   "outputs": [],
   "source": [
    "def split(study_name=None):\n",
    "    for eval_study in set(bmc.study):\n",
    "        if study_name:\n",
    "            eval_study = study_name\n",
    "        print(eval_study)\n",
    "        bmc_train = bmc[bmc.study != eval_study]\n",
    "        bmc_val = bmc[bmc.study == eval_study]\n",
    "        assert (not set(bmc_train.patient_ID).intersection(set(bmc_val.patient_ID)))\n",
    "\n",
    "        train_split = merged[merged.patient_ID.isin(bmc_train.patient_ID)]\n",
    "        val_split = merged[merged.patient_ID.isin(bmc_val.patient_ID)]\n",
    "        assert val_split.patient_ID.to_list() == bmc_val.patient_ID.to_list()\n",
    "        train_data = train_split[feature_columns].to_numpy()\n",
    "        train_labels = train_split[label_columns].to_numpy().astype(int)\n",
    "        val_data = val_split[feature_columns].to_numpy()\n",
    "        val_labels = val_split[label_columns].to_numpy().astype(int)\n",
    "        yield train_data, train_labels, val_data, val_labels\n",
    "        if study_name:\n",
    "            break"
   ]
  },
  {
   "cell_type": "code",
   "execution_count": 18,
   "metadata": {},
   "outputs": [],
   "source": [
    "def compute_metrics(result, y_true, y_pred, x_true, x_pred):\n",
    "    precision, recall, thresholds = precision_recall_curve(y_true, y_pred)\n",
    "    f1 = f1_score(y_true, y_pred)\n",
    "    result['f1'].append(f1)\n",
    "    result['auc'].append(auc(recall, precision))\n",
    "    result['recall'].append(recall[1])\n",
    "    result['precision'].append(precision[1])\n",
    "    result['train_f1'].append(f1_score(x_true, x_pred))"
   ]
  },
  {
   "cell_type": "code",
   "execution_count": 17,
   "metadata": {},
   "outputs": [
    {
     "name": "stdout",
     "output_type": "stream",
     "text": [
      "study_17705_GPL96_JBI_Tissue_BC_Tamoxifen-bmc15\n"
     ]
    },
    {
     "ename": "KeyboardInterrupt",
     "evalue": "",
     "output_type": "error",
     "traceback": [
      "\u001b[0;31m---------------------------------------------------------------------------\u001b[0m",
      "\u001b[0;31mKeyboardInterrupt\u001b[0m                         Traceback (most recent call last)",
      "\u001b[0;32m<ipython-input-17-e00d2a0d44e6>\u001b[0m in \u001b[0;36m<module>\u001b[0;34m\u001b[0m\n\u001b[1;32m     20\u001b[0m     clf = model.fit(train_data, train_labels, \n\u001b[1;32m     21\u001b[0m               \u001b[0meval_set\u001b[0m\u001b[0;34m=\u001b[0m\u001b[0mtest_data\u001b[0m\u001b[0;34m,\u001b[0m\u001b[0;34m\u001b[0m\u001b[0;34m\u001b[0m\u001b[0m\n\u001b[0;32m---> 22\u001b[0;31m               save_snapshot=False, snapshot_file='vasya')\n\u001b[0m\u001b[1;32m     23\u001b[0m     \u001b[0my_pred\u001b[0m \u001b[0;34m=\u001b[0m \u001b[0mclf\u001b[0m\u001b[0;34m.\u001b[0m\u001b[0mpredict\u001b[0m\u001b[0;34m(\u001b[0m\u001b[0mval_data\u001b[0m\u001b[0;34m)\u001b[0m\u001b[0;34m\u001b[0m\u001b[0;34m\u001b[0m\u001b[0m\n\u001b[1;32m     24\u001b[0m     \u001b[0mx_pred\u001b[0m \u001b[0;34m=\u001b[0m \u001b[0mclf\u001b[0m\u001b[0;34m.\u001b[0m\u001b[0mpredict\u001b[0m\u001b[0;34m(\u001b[0m\u001b[0mtrain_data\u001b[0m\u001b[0;34m)\u001b[0m\u001b[0;34m\u001b[0m\u001b[0;34m\u001b[0m\u001b[0m\n",
      "\u001b[0;32m~/miniconda3/envs/bio/lib/python3.6/site-packages/catboost/core.py\u001b[0m in \u001b[0;36mfit\u001b[0;34m(self, X, y, cat_features, text_features, sample_weight, baseline, use_best_model, eval_set, verbose, logging_level, plot, column_description, verbose_eval, metric_period, silent, early_stopping_rounds, save_snapshot, snapshot_file, snapshot_interval, init_model)\u001b[0m\n\u001b[1;32m   4113\u001b[0m         self._fit(X, y, cat_features, text_features, None, sample_weight, None, None, None, None, baseline, use_best_model,\n\u001b[1;32m   4114\u001b[0m                   \u001b[0meval_set\u001b[0m\u001b[0;34m,\u001b[0m \u001b[0mverbose\u001b[0m\u001b[0;34m,\u001b[0m \u001b[0mlogging_level\u001b[0m\u001b[0;34m,\u001b[0m \u001b[0mplot\u001b[0m\u001b[0;34m,\u001b[0m \u001b[0mcolumn_description\u001b[0m\u001b[0;34m,\u001b[0m \u001b[0mverbose_eval\u001b[0m\u001b[0;34m,\u001b[0m \u001b[0mmetric_period\u001b[0m\u001b[0;34m,\u001b[0m\u001b[0;34m\u001b[0m\u001b[0;34m\u001b[0m\u001b[0m\n\u001b[0;32m-> 4115\u001b[0;31m                   silent, early_stopping_rounds, save_snapshot, snapshot_file, snapshot_interval, init_model)\n\u001b[0m\u001b[1;32m   4116\u001b[0m         \u001b[0;32mreturn\u001b[0m \u001b[0mself\u001b[0m\u001b[0;34m\u001b[0m\u001b[0;34m\u001b[0m\u001b[0m\n\u001b[1;32m   4117\u001b[0m \u001b[0;34m\u001b[0m\u001b[0m\n",
      "\u001b[0;32m~/miniconda3/envs/bio/lib/python3.6/site-packages/catboost/core.py\u001b[0m in \u001b[0;36m_fit\u001b[0;34m(self, X, y, cat_features, text_features, pairs, sample_weight, group_id, group_weight, subgroup_id, pairs_weight, baseline, use_best_model, eval_set, verbose, logging_level, plot, column_description, verbose_eval, metric_period, silent, early_stopping_rounds, save_snapshot, snapshot_file, snapshot_interval, init_model)\u001b[0m\n\u001b[1;32m   1741\u001b[0m                 \u001b[0mparams\u001b[0m\u001b[0;34m,\u001b[0m\u001b[0;34m\u001b[0m\u001b[0;34m\u001b[0m\u001b[0m\n\u001b[1;32m   1742\u001b[0m                 \u001b[0mallow_clear_pool\u001b[0m\u001b[0;34m,\u001b[0m\u001b[0;34m\u001b[0m\u001b[0;34m\u001b[0m\u001b[0m\n\u001b[0;32m-> 1743\u001b[0;31m                 \u001b[0mtrain_params\u001b[0m\u001b[0;34m[\u001b[0m\u001b[0;34m\"init_model\"\u001b[0m\u001b[0;34m]\u001b[0m\u001b[0;34m\u001b[0m\u001b[0;34m\u001b[0m\u001b[0m\n\u001b[0m\u001b[1;32m   1744\u001b[0m             )\n\u001b[1;32m   1745\u001b[0m \u001b[0;34m\u001b[0m\u001b[0m\n",
      "\u001b[0;32m~/miniconda3/envs/bio/lib/python3.6/site-packages/catboost/core.py\u001b[0m in \u001b[0;36m_train\u001b[0;34m(self, train_pool, test_pool, params, allow_clear_pool, init_model)\u001b[0m\n\u001b[1;32m   1228\u001b[0m \u001b[0;34m\u001b[0m\u001b[0m\n\u001b[1;32m   1229\u001b[0m     \u001b[0;32mdef\u001b[0m \u001b[0m_train\u001b[0m\u001b[0;34m(\u001b[0m\u001b[0mself\u001b[0m\u001b[0;34m,\u001b[0m \u001b[0mtrain_pool\u001b[0m\u001b[0;34m,\u001b[0m \u001b[0mtest_pool\u001b[0m\u001b[0;34m,\u001b[0m \u001b[0mparams\u001b[0m\u001b[0;34m,\u001b[0m \u001b[0mallow_clear_pool\u001b[0m\u001b[0;34m,\u001b[0m \u001b[0minit_model\u001b[0m\u001b[0;34m)\u001b[0m\u001b[0;34m:\u001b[0m\u001b[0;34m\u001b[0m\u001b[0;34m\u001b[0m\u001b[0m\n\u001b[0;32m-> 1230\u001b[0;31m         \u001b[0mself\u001b[0m\u001b[0;34m.\u001b[0m\u001b[0m_object\u001b[0m\u001b[0;34m.\u001b[0m\u001b[0m_train\u001b[0m\u001b[0;34m(\u001b[0m\u001b[0mtrain_pool\u001b[0m\u001b[0;34m,\u001b[0m \u001b[0mtest_pool\u001b[0m\u001b[0;34m,\u001b[0m \u001b[0mparams\u001b[0m\u001b[0;34m,\u001b[0m \u001b[0mallow_clear_pool\u001b[0m\u001b[0;34m,\u001b[0m \u001b[0minit_model\u001b[0m\u001b[0;34m.\u001b[0m\u001b[0m_object\u001b[0m \u001b[0;32mif\u001b[0m \u001b[0minit_model\u001b[0m \u001b[0;32melse\u001b[0m \u001b[0;32mNone\u001b[0m\u001b[0;34m)\u001b[0m\u001b[0;34m\u001b[0m\u001b[0;34m\u001b[0m\u001b[0m\n\u001b[0m\u001b[1;32m   1231\u001b[0m         \u001b[0mself\u001b[0m\u001b[0;34m.\u001b[0m\u001b[0m_set_trained_model_attributes\u001b[0m\u001b[0;34m(\u001b[0m\u001b[0;34m)\u001b[0m\u001b[0;34m\u001b[0m\u001b[0;34m\u001b[0m\u001b[0m\n\u001b[1;32m   1232\u001b[0m \u001b[0;34m\u001b[0m\u001b[0m\n",
      "\u001b[0;32m_catboost.pyx\u001b[0m in \u001b[0;36m_catboost._CatBoost._train\u001b[0;34m()\u001b[0m\n",
      "\u001b[0;32m_catboost.pyx\u001b[0m in \u001b[0;36m_catboost._CatBoost._train\u001b[0;34m()\u001b[0m\n",
      "\u001b[0;31mKeyboardInterrupt\u001b[0m: "
     ]
    }
   ],
   "source": [
    "model = CatBoostClassifier(iterations=150,\n",
    "                           depth=5,\n",
    "                           learning_rate=0.025,\n",
    "                           loss_function='Logloss',\n",
    "                           model_size_reg=2,\n",
    "                           verbose=False,\n",
    "                           scale_pos_weight=0.605,\n",
    "                           l2_leaf_reg=1)\n",
    "\n",
    "#total_xgboost = defaultdict(list)\n",
    "total_catboost = defaultdict(list)\n",
    "\n",
    "for train_data, train_labels, val_data, val_labels in split(): \n",
    "    catboost_pool = Pool(train_data, \n",
    "                        train_labels)\n",
    "\n",
    "    test_data = Pool(val_data,\n",
    "                     val_labels) \n",
    "    # train the model\n",
    "    clf = model.fit(train_data, train_labels, \n",
    "              eval_set=test_data,\n",
    "              save_snapshot=False, snapshot_file='vasya')\n",
    "    y_pred = clf.predict(val_data)\n",
    "    x_pred = clf.predict(train_data)\n",
    "    compute_metrics(total_catboost, val_labels.flatten(), y_pred, train_labels, x_pred)\n",
    "    for key in total_catboost:\n",
    "        print('catboost  {0}: {1}'.format(key, total_catboost[key][-1]))\n",
    "    \n",
    "    \n",
    "    #clf = xgb.XGBClassifier()\n",
    "    #clf = clf.fit(train_data, train_labels)\n",
    "    #y_pred = clf.predict(val_data)\n",
    "    #x_pred = clf.predict(train_data)\n",
    "    #compute_metrics(total_xgboost, val_labels.flatten(), y_pred, train_labels, x_pred)\n",
    "    #for key in total_xgboost:\n",
    "    #    print('xgboost  {0}: {1}'.format(key, total_xgboost[key][-1]))"
   ]
  },
  {
   "cell_type": "code",
   "execution_count": null,
   "metadata": {},
   "outputs": [],
   "source": [
    "for key in total_xgboost:\n",
    "    print('{0}: {1}'.format(key, numpy.mean(total_xgboost[key])))"
   ]
  },
  {
   "cell_type": "code",
   "execution_count": null,
   "metadata": {},
   "outputs": [],
   "source": [
    "for key in total_catboost:\n",
    "    print('{0}: {1}'.format(key, numpy.mean(total_catboost[key])))"
   ]
  },
  {
   "cell_type": "code",
   "execution_count": 18,
   "metadata": {},
   "outputs": [
    {
     "name": "stdout",
     "output_type": "stream",
     "text": [
      "study_16446_GPL570_all-bmc15\n",
      "0:\tlearn: 0.6875831\ttest: 0.6977231\tbest: 0.6977231 (0)\ttotal: 1.07s\tremaining: 2m 39s\n",
      "1:\tlearn: 0.6832383\ttest: 0.7021462\tbest: 0.6977231 (0)\ttotal: 1.85s\tremaining: 2m 17s\n",
      "2:\tlearn: 0.6784103\ttest: 0.7018743\tbest: 0.6977231 (0)\ttotal: 2.65s\tremaining: 2m 9s\n",
      "3:\tlearn: 0.6738339\ttest: 0.7031812\tbest: 0.6977231 (0)\ttotal: 3.49s\tremaining: 2m 7s\n",
      "4:\tlearn: 0.6689830\ttest: 0.7014024\tbest: 0.6977231 (0)\ttotal: 4.27s\tremaining: 2m 3s\n",
      "5:\tlearn: 0.6651231\ttest: 0.6992907\tbest: 0.6977231 (0)\ttotal: 5.05s\tremaining: 2m 1s\n",
      "6:\tlearn: 0.6603499\ttest: 0.6975495\tbest: 0.6975495 (6)\ttotal: 5.82s\tremaining: 1m 58s\n",
      "7:\tlearn: 0.6559719\ttest: 0.7013024\tbest: 0.6975495 (6)\ttotal: 6.6s\tremaining: 1m 57s\n",
      "8:\tlearn: 0.6516918\ttest: 0.6985079\tbest: 0.6975495 (6)\ttotal: 7.36s\tremaining: 1m 55s\n",
      "9:\tlearn: 0.6476093\ttest: 0.6971920\tbest: 0.6971920 (9)\ttotal: 8.14s\tremaining: 1m 53s\n",
      "10:\tlearn: 0.6439463\ttest: 0.6943995\tbest: 0.6943995 (10)\ttotal: 9s\tremaining: 1m 53s\n",
      "11:\tlearn: 0.6408989\ttest: 0.6914427\tbest: 0.6914427 (11)\ttotal: 9.82s\tremaining: 1m 52s\n",
      "12:\tlearn: 0.6375870\ttest: 0.6970736\tbest: 0.6914427 (11)\ttotal: 10.6s\tremaining: 1m 51s\n",
      "13:\tlearn: 0.6335376\ttest: 0.6996853\tbest: 0.6914427 (11)\ttotal: 11.4s\tremaining: 1m 50s\n",
      "14:\tlearn: 0.6304546\ttest: 0.6978472\tbest: 0.6914427 (11)\ttotal: 12.1s\tremaining: 1m 49s\n",
      "15:\tlearn: 0.6275821\ttest: 0.6950004\tbest: 0.6914427 (11)\ttotal: 12.9s\tremaining: 1m 48s\n",
      "16:\tlearn: 0.6237948\ttest: 0.6927484\tbest: 0.6914427 (11)\ttotal: 13.7s\tremaining: 1m 47s\n",
      "17:\tlearn: 0.6209319\ttest: 0.6908387\tbest: 0.6908387 (17)\ttotal: 14.5s\tremaining: 1m 46s\n",
      "18:\tlearn: 0.6176678\ttest: 0.6887978\tbest: 0.6887978 (18)\ttotal: 15.2s\tremaining: 1m 44s\n",
      "19:\tlearn: 0.6144971\ttest: 0.6869638\tbest: 0.6869638 (19)\ttotal: 16s\tremaining: 1m 43s\n",
      "20:\tlearn: 0.6117892\ttest: 0.6853088\tbest: 0.6853088 (20)\ttotal: 16.8s\tremaining: 1m 42s\n",
      "21:\tlearn: 0.6094467\ttest: 0.6851562\tbest: 0.6851562 (21)\ttotal: 17.5s\tremaining: 1m 41s\n",
      "22:\tlearn: 0.6068450\ttest: 0.6835786\tbest: 0.6835786 (22)\ttotal: 18.3s\tremaining: 1m 41s\n",
      "23:\tlearn: 0.6042336\ttest: 0.6840540\tbest: 0.6835786 (22)\ttotal: 19.2s\tremaining: 1m 40s\n",
      "24:\tlearn: 0.6015750\ttest: 0.6820316\tbest: 0.6820316 (24)\ttotal: 20s\tremaining: 1m 39s\n",
      "25:\tlearn: 0.5991735\ttest: 0.6815158\tbest: 0.6815158 (25)\ttotal: 20.8s\tremaining: 1m 39s\n",
      "26:\tlearn: 0.5970330\ttest: 0.6788762\tbest: 0.6788762 (26)\ttotal: 21.6s\tremaining: 1m 38s\n",
      "27:\tlearn: 0.5944879\ttest: 0.6795688\tbest: 0.6788762 (26)\ttotal: 22.3s\tremaining: 1m 37s\n",
      "28:\tlearn: 0.5922915\ttest: 0.6777506\tbest: 0.6777506 (28)\ttotal: 23.1s\tremaining: 1m 36s\n",
      "29:\tlearn: 0.5901555\ttest: 0.6768029\tbest: 0.6768029 (29)\ttotal: 23.9s\tremaining: 1m 35s\n",
      "30:\tlearn: 0.5879082\ttest: 0.6786797\tbest: 0.6768029 (29)\ttotal: 24.6s\tremaining: 1m 34s\n",
      "31:\tlearn: 0.5859014\ttest: 0.6779032\tbest: 0.6768029 (29)\ttotal: 25.4s\tremaining: 1m 33s\n",
      "32:\tlearn: 0.5840849\ttest: 0.6765324\tbest: 0.6765324 (32)\ttotal: 26.2s\tremaining: 1m 32s\n",
      "33:\tlearn: 0.5813964\ttest: 0.6752280\tbest: 0.6752280 (33)\ttotal: 27s\tremaining: 1m 32s\n",
      "34:\tlearn: 0.5791610\ttest: 0.6736433\tbest: 0.6736433 (34)\ttotal: 27.8s\tremaining: 1m 31s\n",
      "35:\tlearn: 0.5769453\ttest: 0.6729886\tbest: 0.6729886 (35)\ttotal: 28.6s\tremaining: 1m 30s\n",
      "36:\tlearn: 0.5753194\ttest: 0.6694397\tbest: 0.6694397 (36)\ttotal: 29.4s\tremaining: 1m 29s\n",
      "37:\tlearn: 0.5738201\ttest: 0.6686418\tbest: 0.6686418 (37)\ttotal: 30.1s\tremaining: 1m 28s\n",
      "38:\tlearn: 0.5723036\ttest: 0.6674907\tbest: 0.6674907 (38)\ttotal: 30.9s\tremaining: 1m 27s\n",
      "39:\tlearn: 0.5705108\ttest: 0.6685606\tbest: 0.6674907 (38)\ttotal: 31.6s\tremaining: 1m 27s\n",
      "40:\tlearn: 0.5690978\ttest: 0.6687625\tbest: 0.6674907 (38)\ttotal: 32.4s\tremaining: 1m 26s\n",
      "41:\tlearn: 0.5675475\ttest: 0.6703656\tbest: 0.6674907 (38)\ttotal: 33.3s\tremaining: 1m 25s\n",
      "42:\tlearn: 0.5659454\ttest: 0.6690292\tbest: 0.6674907 (38)\ttotal: 34.1s\tremaining: 1m 24s\n",
      "43:\tlearn: 0.5641109\ttest: 0.6670581\tbest: 0.6670581 (43)\ttotal: 34.8s\tremaining: 1m 23s\n",
      "44:\tlearn: 0.5626245\ttest: 0.6672569\tbest: 0.6670581 (43)\ttotal: 35.6s\tremaining: 1m 23s\n",
      "45:\tlearn: 0.5612553\ttest: 0.6665927\tbest: 0.6665927 (45)\ttotal: 36.4s\tremaining: 1m 22s\n",
      "46:\tlearn: 0.5599883\ttest: 0.6664840\tbest: 0.6664840 (46)\ttotal: 37.1s\tremaining: 1m 21s\n",
      "47:\tlearn: 0.5585954\ttest: 0.6650217\tbest: 0.6650217 (47)\ttotal: 37.9s\tremaining: 1m 20s\n",
      "48:\tlearn: 0.5569138\ttest: 0.6647549\tbest: 0.6647549 (48)\ttotal: 38.7s\tremaining: 1m 19s\n",
      "49:\tlearn: 0.5552919\ttest: 0.6643120\tbest: 0.6643120 (49)\ttotal: 39.5s\tremaining: 1m 19s\n",
      "50:\tlearn: 0.5540569\ttest: 0.6625648\tbest: 0.6625648 (50)\ttotal: 40.3s\tremaining: 1m 18s\n",
      "51:\tlearn: 0.5527569\ttest: 0.6626468\tbest: 0.6625648 (50)\ttotal: 41s\tremaining: 1m 17s\n",
      "52:\tlearn: 0.5514810\ttest: 0.6621200\tbest: 0.6621200 (52)\ttotal: 41.8s\tremaining: 1m 16s\n",
      "53:\tlearn: 0.5501607\ttest: 0.6617200\tbest: 0.6617200 (53)\ttotal: 42.6s\tremaining: 1m 15s\n",
      "54:\tlearn: 0.5487895\ttest: 0.6612347\tbest: 0.6612347 (54)\ttotal: 43.5s\tremaining: 1m 15s\n",
      "55:\tlearn: 0.5472332\ttest: 0.6593241\tbest: 0.6593241 (55)\ttotal: 44.2s\tremaining: 1m 14s\n",
      "56:\tlearn: 0.5459329\ttest: 0.6588328\tbest: 0.6588328 (56)\ttotal: 45s\tremaining: 1m 13s\n",
      "57:\tlearn: 0.5445659\ttest: 0.6583552\tbest: 0.6583552 (57)\ttotal: 45.8s\tremaining: 1m 12s\n",
      "58:\tlearn: 0.5431891\ttest: 0.6561854\tbest: 0.6561854 (58)\ttotal: 46.6s\tremaining: 1m 11s\n",
      "59:\tlearn: 0.5416298\ttest: 0.6560097\tbest: 0.6560097 (59)\ttotal: 47.4s\tremaining: 1m 11s\n",
      "60:\tlearn: 0.5402316\ttest: 0.6553598\tbest: 0.6553598 (60)\ttotal: 48.1s\tremaining: 1m 10s\n",
      "61:\tlearn: 0.5384931\ttest: 0.6550797\tbest: 0.6550797 (61)\ttotal: 48.9s\tremaining: 1m 9s\n",
      "62:\tlearn: 0.5375326\ttest: 0.6546890\tbest: 0.6546890 (62)\ttotal: 49.7s\tremaining: 1m 8s\n",
      "63:\tlearn: 0.5362078\ttest: 0.6538325\tbest: 0.6538325 (63)\ttotal: 50.6s\tremaining: 1m 7s\n",
      "64:\tlearn: 0.5350888\ttest: 0.6544412\tbest: 0.6538325 (63)\ttotal: 51.4s\tremaining: 1m 7s\n",
      "65:\tlearn: 0.5338045\ttest: 0.6570083\tbest: 0.6538325 (63)\ttotal: 52.2s\tremaining: 1m 6s\n",
      "66:\tlearn: 0.5327236\ttest: 0.6583268\tbest: 0.6538325 (63)\ttotal: 53s\tremaining: 1m 5s\n",
      "67:\tlearn: 0.5315803\ttest: 0.6577616\tbest: 0.6538325 (63)\ttotal: 53.9s\tremaining: 1m 5s\n",
      "68:\tlearn: 0.5303891\ttest: 0.6575424\tbest: 0.6538325 (63)\ttotal: 54.8s\tremaining: 1m 4s\n",
      "69:\tlearn: 0.5292422\ttest: 0.6572569\tbest: 0.6538325 (63)\ttotal: 55.6s\tremaining: 1m 3s\n",
      "70:\tlearn: 0.5282137\ttest: 0.6545579\tbest: 0.6538325 (63)\ttotal: 56.4s\tremaining: 1m 2s\n",
      "71:\tlearn: 0.5269215\ttest: 0.6540348\tbest: 0.6538325 (63)\ttotal: 57.1s\tremaining: 1m 1s\n",
      "72:\tlearn: 0.5258394\ttest: 0.6534891\tbest: 0.6534891 (72)\ttotal: 57.9s\tremaining: 1m 1s\n",
      "73:\tlearn: 0.5248118\ttest: 0.6546194\tbest: 0.6534891 (72)\ttotal: 58.7s\tremaining: 1m\n",
      "74:\tlearn: 0.5236992\ttest: 0.6553603\tbest: 0.6534891 (72)\ttotal: 59.4s\tremaining: 59.4s\n",
      "75:\tlearn: 0.5227138\ttest: 0.6543443\tbest: 0.6534891 (72)\ttotal: 1m\tremaining: 58.7s\n",
      "76:\tlearn: 0.5216222\ttest: 0.6545132\tbest: 0.6534891 (72)\ttotal: 1m 1s\tremaining: 57.9s\n",
      "77:\tlearn: 0.5205271\ttest: 0.6544801\tbest: 0.6534891 (72)\ttotal: 1m 1s\tremaining: 57.2s\n",
      "78:\tlearn: 0.5194727\ttest: 0.6559598\tbest: 0.6534891 (72)\ttotal: 1m 2s\tremaining: 56.6s\n",
      "79:\tlearn: 0.5180871\ttest: 0.6541498\tbest: 0.6534891 (72)\ttotal: 1m 3s\tremaining: 55.9s\n",
      "80:\tlearn: 0.5171378\ttest: 0.6548101\tbest: 0.6534891 (72)\ttotal: 1m 4s\tremaining: 55.1s\n",
      "81:\tlearn: 0.5160450\ttest: 0.6533143\tbest: 0.6533143 (81)\ttotal: 1m 5s\tremaining: 54.3s\n",
      "82:\tlearn: 0.5147016\ttest: 0.6549741\tbest: 0.6533143 (81)\ttotal: 1m 6s\tremaining: 53.5s\n",
      "83:\tlearn: 0.5135989\ttest: 0.6551441\tbest: 0.6533143 (81)\ttotal: 1m 7s\tremaining: 52.7s\n",
      "84:\tlearn: 0.5128036\ttest: 0.6551066\tbest: 0.6533143 (81)\ttotal: 1m 7s\tremaining: 51.9s\n",
      "85:\tlearn: 0.5117980\ttest: 0.6552275\tbest: 0.6533143 (81)\ttotal: 1m 9s\tremaining: 51.4s\n",
      "86:\tlearn: 0.5107097\ttest: 0.6559371\tbest: 0.6533143 (81)\ttotal: 1m 10s\tremaining: 51.1s\n",
      "87:\tlearn: 0.5097631\ttest: 0.6564965\tbest: 0.6533143 (81)\ttotal: 1m 12s\tremaining: 50.8s\n",
      "88:\tlearn: 0.5089552\ttest: 0.6572865\tbest: 0.6533143 (81)\ttotal: 1m 13s\tremaining: 50.4s\n",
      "89:\tlearn: 0.5081710\ttest: 0.6570572\tbest: 0.6533143 (81)\ttotal: 1m 14s\tremaining: 49.8s\n",
      "90:\tlearn: 0.5072704\ttest: 0.6569717\tbest: 0.6533143 (81)\ttotal: 1m 15s\tremaining: 49s\n",
      "91:\tlearn: 0.5065813\ttest: 0.6574413\tbest: 0.6533143 (81)\ttotal: 1m 16s\tremaining: 48.1s\n",
      "92:\tlearn: 0.5054536\ttest: 0.6577947\tbest: 0.6533143 (81)\ttotal: 1m 17s\tremaining: 47.3s\n"
     ]
    },
    {
     "name": "stdout",
     "output_type": "stream",
     "text": [
      "93:\tlearn: 0.5042675\ttest: 0.6583167\tbest: 0.6533143 (81)\ttotal: 1m 18s\tremaining: 46.6s\n",
      "94:\tlearn: 0.5032890\ttest: 0.6579454\tbest: 0.6533143 (81)\ttotal: 1m 19s\tremaining: 45.8s\n",
      "95:\tlearn: 0.5023024\ttest: 0.6575665\tbest: 0.6533143 (81)\ttotal: 1m 19s\tremaining: 44.9s\n",
      "96:\tlearn: 0.5016706\ttest: 0.6570660\tbest: 0.6533143 (81)\ttotal: 1m 20s\tremaining: 44.1s\n",
      "97:\tlearn: 0.5005017\ttest: 0.6578499\tbest: 0.6533143 (81)\ttotal: 1m 21s\tremaining: 43.2s\n",
      "98:\tlearn: 0.4989630\ttest: 0.6592116\tbest: 0.6533143 (81)\ttotal: 1m 22s\tremaining: 42.4s\n",
      "99:\tlearn: 0.4980987\ttest: 0.6589632\tbest: 0.6533143 (81)\ttotal: 1m 23s\tremaining: 41.6s\n",
      "100:\tlearn: 0.4972622\ttest: 0.6590636\tbest: 0.6533143 (81)\ttotal: 1m 24s\tremaining: 40.8s\n",
      "101:\tlearn: 0.4964582\ttest: 0.6592480\tbest: 0.6533143 (81)\ttotal: 1m 24s\tremaining: 39.9s\n",
      "102:\tlearn: 0.4954886\ttest: 0.6589985\tbest: 0.6533143 (81)\ttotal: 1m 25s\tremaining: 39.1s\n",
      "103:\tlearn: 0.4947223\ttest: 0.6583046\tbest: 0.6533143 (81)\ttotal: 1m 26s\tremaining: 38.2s\n",
      "104:\tlearn: 0.4939356\ttest: 0.6581103\tbest: 0.6533143 (81)\ttotal: 1m 27s\tremaining: 37.4s\n",
      "105:\tlearn: 0.4931550\ttest: 0.6575619\tbest: 0.6533143 (81)\ttotal: 1m 28s\tremaining: 36.6s\n",
      "106:\tlearn: 0.4921631\ttest: 0.6572147\tbest: 0.6533143 (81)\ttotal: 1m 28s\tremaining: 35.8s\n",
      "107:\tlearn: 0.4911012\ttest: 0.6577742\tbest: 0.6533143 (81)\ttotal: 1m 29s\tremaining: 34.9s\n",
      "108:\tlearn: 0.4898025\ttest: 0.6592563\tbest: 0.6533143 (81)\ttotal: 1m 30s\tremaining: 34.1s\n",
      "109:\tlearn: 0.4888752\ttest: 0.6599096\tbest: 0.6533143 (81)\ttotal: 1m 31s\tremaining: 33.2s\n",
      "110:\tlearn: 0.4877900\ttest: 0.6595401\tbest: 0.6533143 (81)\ttotal: 1m 32s\tremaining: 32.4s\n",
      "111:\tlearn: 0.4870230\ttest: 0.6598112\tbest: 0.6533143 (81)\ttotal: 1m 32s\tremaining: 31.5s\n",
      "112:\tlearn: 0.4863140\ttest: 0.6591365\tbest: 0.6533143 (81)\ttotal: 1m 33s\tremaining: 30.7s\n",
      "113:\tlearn: 0.4852437\ttest: 0.6596864\tbest: 0.6533143 (81)\ttotal: 1m 34s\tremaining: 29.9s\n",
      "114:\tlearn: 0.4843313\ttest: 0.6592735\tbest: 0.6533143 (81)\ttotal: 1m 35s\tremaining: 29s\n",
      "115:\tlearn: 0.4834335\ttest: 0.6589624\tbest: 0.6533143 (81)\ttotal: 1m 36s\tremaining: 28.2s\n",
      "116:\tlearn: 0.4824774\ttest: 0.6586421\tbest: 0.6533143 (81)\ttotal: 1m 36s\tremaining: 27.3s\n",
      "117:\tlearn: 0.4815039\ttest: 0.6577832\tbest: 0.6533143 (81)\ttotal: 1m 37s\tremaining: 26.5s\n",
      "118:\tlearn: 0.4805636\ttest: 0.6572828\tbest: 0.6533143 (81)\ttotal: 1m 38s\tremaining: 25.7s\n",
      "119:\tlearn: 0.4797327\ttest: 0.6570741\tbest: 0.6533143 (81)\ttotal: 1m 39s\tremaining: 24.8s\n",
      "120:\tlearn: 0.4788884\ttest: 0.6549447\tbest: 0.6533143 (81)\ttotal: 1m 40s\tremaining: 24s\n",
      "121:\tlearn: 0.4776678\ttest: 0.6557586\tbest: 0.6533143 (81)\ttotal: 1m 40s\tremaining: 23.1s\n",
      "122:\tlearn: 0.4766974\ttest: 0.6550627\tbest: 0.6533143 (81)\ttotal: 1m 41s\tremaining: 22.3s\n",
      "123:\tlearn: 0.4758709\ttest: 0.6549190\tbest: 0.6533143 (81)\ttotal: 1m 42s\tremaining: 21.5s\n",
      "124:\tlearn: 0.4748484\ttest: 0.6550861\tbest: 0.6533143 (81)\ttotal: 1m 43s\tremaining: 20.6s\n",
      "125:\tlearn: 0.4738124\ttest: 0.6546285\tbest: 0.6533143 (81)\ttotal: 1m 43s\tremaining: 19.8s\n",
      "126:\tlearn: 0.4730963\ttest: 0.6551858\tbest: 0.6533143 (81)\ttotal: 1m 44s\tremaining: 19s\n",
      "127:\tlearn: 0.4722959\ttest: 0.6552768\tbest: 0.6533143 (81)\ttotal: 1m 45s\tremaining: 18.1s\n",
      "128:\tlearn: 0.4713134\ttest: 0.6555674\tbest: 0.6533143 (81)\ttotal: 1m 46s\tremaining: 17.3s\n",
      "129:\tlearn: 0.4703160\ttest: 0.6550554\tbest: 0.6533143 (81)\ttotal: 1m 47s\tremaining: 16.5s\n",
      "130:\tlearn: 0.4693721\ttest: 0.6536557\tbest: 0.6533143 (81)\ttotal: 1m 48s\tremaining: 15.7s\n",
      "131:\tlearn: 0.4684292\ttest: 0.6536545\tbest: 0.6533143 (81)\ttotal: 1m 48s\tremaining: 14.8s\n",
      "132:\tlearn: 0.4677961\ttest: 0.6529539\tbest: 0.6529539 (132)\ttotal: 1m 49s\tremaining: 14s\n",
      "133:\tlearn: 0.4666057\ttest: 0.6526025\tbest: 0.6526025 (133)\ttotal: 1m 50s\tremaining: 13.2s\n",
      "134:\tlearn: 0.4658150\ttest: 0.6515465\tbest: 0.6515465 (134)\ttotal: 1m 51s\tremaining: 12.4s\n",
      "135:\tlearn: 0.4649723\ttest: 0.6510297\tbest: 0.6510297 (135)\ttotal: 1m 52s\tremaining: 11.6s\n",
      "136:\tlearn: 0.4643025\ttest: 0.6511451\tbest: 0.6510297 (135)\ttotal: 1m 53s\tremaining: 10.7s\n",
      "137:\tlearn: 0.4633508\ttest: 0.6501624\tbest: 0.6501624 (137)\ttotal: 1m 54s\tremaining: 9.92s\n",
      "138:\tlearn: 0.4624909\ttest: 0.6519432\tbest: 0.6501624 (137)\ttotal: 1m 54s\tremaining: 9.09s\n",
      "139:\tlearn: 0.4616373\ttest: 0.6531991\tbest: 0.6501624 (137)\ttotal: 1m 55s\tremaining: 8.26s\n",
      "140:\tlearn: 0.4610066\ttest: 0.6533052\tbest: 0.6501624 (137)\ttotal: 1m 56s\tremaining: 7.44s\n",
      "141:\tlearn: 0.4602222\ttest: 0.6530062\tbest: 0.6501624 (137)\ttotal: 1m 57s\tremaining: 6.61s\n",
      "142:\tlearn: 0.4592642\ttest: 0.6535984\tbest: 0.6501624 (137)\ttotal: 1m 58s\tremaining: 5.78s\n",
      "143:\tlearn: 0.4584543\ttest: 0.6538421\tbest: 0.6501624 (137)\ttotal: 1m 58s\tremaining: 4.96s\n",
      "144:\tlearn: 0.4577802\ttest: 0.6530291\tbest: 0.6501624 (137)\ttotal: 1m 59s\tremaining: 4.13s\n",
      "145:\tlearn: 0.4569265\ttest: 0.6521484\tbest: 0.6501624 (137)\ttotal: 2m\tremaining: 3.31s\n",
      "146:\tlearn: 0.4560666\ttest: 0.6528904\tbest: 0.6501624 (137)\ttotal: 2m 1s\tremaining: 2.48s\n",
      "147:\tlearn: 0.4551192\ttest: 0.6540865\tbest: 0.6501624 (137)\ttotal: 2m 2s\tremaining: 1.65s\n",
      "148:\tlearn: 0.4541196\ttest: 0.6538724\tbest: 0.6501624 (137)\ttotal: 2m 3s\tremaining: 826ms\n",
      "149:\tlearn: 0.4532030\ttest: 0.6532561\tbest: 0.6501624 (137)\ttotal: 2m 3s\tremaining: 0us\n",
      "\n",
      "bestTest = 0.6501623948\n",
      "bestIteration = 137\n",
      "\n",
      "Shrink model to first 138 iterations.\n"
     ]
    },
    {
     "data": {
      "text/plain": [
       "defaultdict(list,\n",
       "            {'f1': [0.8541666666666666],\n",
       "             'auc': [0.8894341641165202],\n",
       "             'recall': [0.9213483146067416],\n",
       "             'precision': [0.7961165048543689],\n",
       "             'train_f1': [0.8671698113207548]})"
      ]
     },
     "execution_count": 18,
     "metadata": {},
     "output_type": "execute_result"
    }
   ],
   "source": [
    "res = defaultdict(list)\n",
    "model = CatBoostClassifier(iterations=150,\n",
    "                           depth=5,\n",
    "                           learning_rate=0.025,\n",
    "                           loss_function='Logloss',\n",
    "                           model_size_reg=2,\n",
    "                           verbose=True,\n",
    "                           scale_pos_weight=0.605,\n",
    "                           l2_leaf_reg=1)\n",
    "train_data, train_labels, val_data, val_labels = next(split('study_16446_GPL570_all-bmc15'))\n",
    "catboost_pool = Pool(train_data, \n",
    "                    train_labels)\n",
    "\n",
    "test_data = Pool(val_data,\n",
    "                 val_labels) \n",
    "# train the model\n",
    "clf = model.fit(train_data, train_labels, \n",
    "          eval_set=test_data,\n",
    "          save_snapshot=False, snapshot_file='vasya')\n",
    "y_pred = clf.predict(val_data)\n",
    "x_pred = clf.predict(train_data)\n",
    "compute_metrics(res, val_labels.flatten(), y_pred, train_labels, x_pred)\n",
    "res"
   ]
  },
  {
   "cell_type": "code",
   "execution_count": 19,
   "metadata": {},
   "outputs": [],
   "source": [
    "from opencog.atomspace import AtomSpace\n",
    "from opencog.pymoses import moses\n",
    "from opencog.scheme_wrapper import scheme_eval"
   ]
  },
  {
   "cell_type": "code",
   "execution_count": 20,
   "metadata": {},
   "outputs": [
    {
     "name": "stdout",
     "output_type": "stream",
     "text": [
      "study_16446_GPL570_all-bmc15\n"
     ]
    }
   ],
   "source": [
    "train_data, train_labels, val_data, val_labels = next(split('study_16446_GPL570_all-bmc15'))"
   ]
  },
  {
   "cell_type": "code",
   "execution_count": 42,
   "metadata": {},
   "outputs": [],
   "source": [
    "input_data = numpy.concatenate([train_labels, train_data], axis=1)"
   ]
  },
  {
   "cell_type": "code",
   "execution_count": 45,
   "metadata": {},
   "outputs": [],
   "source": [
    "input_data[:,[0, 2]] = input_data[:,[2,0]]"
   ]
  },
  {
   "cell_type": "code",
   "execution_count": 48,
   "metadata": {},
   "outputs": [
    {
     "data": {
      "text/plain": [
       "dtype('int64')"
      ]
     },
     "execution_count": 48,
     "metadata": {},
     "output_type": "execute_result"
    }
   ],
   "source": []
  },
  {
   "cell_type": "code",
   "execution_count": 43,
   "metadata": {},
   "outputs": [],
   "source": [
    "mos = moses()"
   ]
  },
  {
   "cell_type": "code",
   "execution_count": 46,
   "metadata": {},
   "outputs": [
    {
     "name": "stderr",
     "output_type": "stream",
     "text": [
      "/usr/lib/python3.6/site-packages/ipykernel_launcher.py:1: FutureWarning: elementwise comparison failed; returning scalar instead, but in the future will perform elementwise comparison\n",
      "  \"\"\"Entry point for launching an IPython kernel.\n"
     ]
    },
    {
     "ename": "MosesException",
     "evalue": "Error: exception occurred calling C++ MOSES.",
     "output_type": "error",
     "traceback": [
      "\u001b[0;31m---------------------------------------------------------------------------\u001b[0m",
      "\u001b[0;31mRuntimeError\u001b[0m                              Traceback (most recent call last)",
      "\u001b[0;32mpymoses.pyx\u001b[0m in \u001b[0;36mopencog.pymoses.moses._run_args_list\u001b[0;34m()\u001b[0m\n",
      "\u001b[0;31mRuntimeError\u001b[0m: Parsing error occurred on line 683 of input file\nException: Expecting boolean value, got 3 (/home/leron/projects/moses/moses/comboreduct/table/table_io.cc:269) (/home/leron/projects/moses/moses/comboreduct/table/table_io.cc:1149)",
      "\nDuring handling of the above exception, another exception occurred:\n",
      "\u001b[0;31mMosesException\u001b[0m                            Traceback (most recent call last)",
      "\u001b[0;32m<ipython-input-46-54e125a2d4ba>\u001b[0m in \u001b[0;36m<module>\u001b[0;34m\u001b[0m\n\u001b[0;32m----> 1\u001b[0;31m \u001b[0moutput\u001b[0m \u001b[0;34m=\u001b[0m \u001b[0mmos\u001b[0m\u001b[0;34m.\u001b[0m\u001b[0mrun\u001b[0m\u001b[0;34m(\u001b[0m\u001b[0minput\u001b[0m\u001b[0;34m=\u001b[0m\u001b[0minput_data\u001b[0m\u001b[0;34m,\u001b[0m \u001b[0mpython\u001b[0m\u001b[0;34m=\u001b[0m\u001b[0;32mTrue\u001b[0m\u001b[0;34m,\u001b[0m \u001b[0margs\u001b[0m\u001b[0;34m=\u001b[0m\u001b[0;34m'--balance=1 -m 100000'\u001b[0m\u001b[0;34m)\u001b[0m\u001b[0;34m\u001b[0m\u001b[0;34m\u001b[0m\u001b[0m\n\u001b[0m",
      "\u001b[0;32mpymoses.pyx\u001b[0m in \u001b[0;36mopencog.pymoses.moses.run\u001b[0;34m()\u001b[0m\n",
      "\u001b[0;32mpymoses.pyx\u001b[0m in \u001b[0;36mopencog.pymoses.moses._run_args_list\u001b[0;34m()\u001b[0m\n",
      "\u001b[0;31mMosesException\u001b[0m: Error: exception occurred calling C++ MOSES."
     ]
    }
   ],
   "source": [
    "output = mos.run(input=input_data, python=True, args='--balance=1 -m 100000')"
   ]
  },
  {
   "cell_type": "code",
   "execution_count": 41,
   "metadata": {},
   "outputs": [
    {
     "data": {
      "text/plain": [
       "b'#!/usr/bin/env python\\n\\n#score: -814\\nimport operator as op\\nfrom functools import reduce\\nfrom math import log, exp, sin\\ndef l0(i): return 0 < i\\ndef adds(*args): return sum(args)\\ndef muls(*args): return reduce(op.mul, args)\\ndef pdiv(a, b): return a / (b + 0.000001)\\ndef moses_eval(i):\\n    return True \\n'"
      ]
     },
     "execution_count": 41,
     "metadata": {},
     "output_type": "execute_result"
    }
   ],
   "source": [
    "output[0].program"
   ]
  },
  {
   "cell_type": "code",
   "execution_count": 58,
   "metadata": {},
   "outputs": [
    {
     "name": "stdout",
     "output_type": "stream",
     "text": [
      "0\n"
     ]
    },
    {
     "ename": "SyntaxError",
     "evalue": "invalid syntax (<string>, line 12)",
     "output_type": "error",
     "traceback": [
      "Traceback \u001b[0;36m(most recent call last)\u001b[0m:\n",
      "  File \u001b[1;32m\"/usr/lib/python3.6/site-packages/IPython/core/interactiveshell.py\"\u001b[0m, line \u001b[1;32m3296\u001b[0m, in \u001b[1;35mrun_code\u001b[0m\n    exec(code_obj, self.user_global_ns, self.user_ns)\n",
      "  File \u001b[1;32m\"<ipython-input-58-f533526067e4>\"\u001b[0m, line \u001b[1;32m6\u001b[0m, in \u001b[1;35m<module>\u001b[0m\n    print(model([0, 1]))  # Returns: True\n",
      "\u001b[0;36m  File \u001b[0;32m\"pymoses.pyx\"\u001b[0;36m, line \u001b[0;32m28\u001b[0;36m, in \u001b[0;35mopencog.pymoses.MosesCandidate.eval\u001b[0;36m\u001b[0m\n",
      "\u001b[0;36m  File \u001b[0;32m\"<string>\"\u001b[0;36m, line \u001b[0;32m12\u001b[0m\n\u001b[0;31m    return adds(Builtin 13 unknown(i[0]), Builtin 13 unknown(i[1]))\u001b[0m\n\u001b[0m                         ^\u001b[0m\n\u001b[0;31mSyntaxError\u001b[0m\u001b[0;31m:\u001b[0m invalid syntax\n"
     ]
    }
   ],
   "source": [
    "mos = moses()\n",
    "input_data = [[0, 0, 0], [1, 1, 0], [1, 0, 1], [2, 1, 1]]\n",
    "output = mos.run(input=input_data, python=True)\n",
    "print (output[0].score) # Prints: 0\n",
    "model = output[0].eval\n",
    "print(model([0, 1]))  # Returns: True\n",
    "print(model([1, 1]))  # Returns: False"
   ]
  },
  {
   "cell_type": "code",
   "execution_count": null,
   "metadata": {},
   "outputs": [],
   "source": []
  }
 ],
 "metadata": {
  "kernelspec": {
   "display_name": "Python 3",
   "language": "python",
   "name": "python3"
  },
  "language_info": {
   "codemirror_mode": {
    "name": "ipython",
    "version": 3
   },
   "file_extension": ".py",
   "mimetype": "text/x-python",
   "name": "python",
   "nbconvert_exporter": "python",
   "pygments_lexer": "ipython3",
   "version": "3.6.10"
  }
 },
 "nbformat": 4,
 "nbformat_minor": 4
}
