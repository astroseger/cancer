{
 "cells": [
  {
   "cell_type": "code",
   "execution_count": 1,
   "metadata": {},
   "outputs": [],
   "source": [
    "import sys\n",
    "import os\n",
    "import lzma\n",
    "import random\n",
    "from collections import defaultdict\n",
    "import math"
   ]
  },
  {
   "cell_type": "code",
   "execution_count": 2,
   "metadata": {},
   "outputs": [],
   "source": [
    "import numpy\n",
    "import pandas"
   ]
  },
  {
   "cell_type": "code",
   "execution_count": 81,
   "metadata": {},
   "outputs": [],
   "source": [
    "import xgboost as xgb"
   ]
  },
  {
   "cell_type": "code",
   "execution_count": 4,
   "metadata": {},
   "outputs": [],
   "source": [
    "import sklearn"
   ]
  },
  {
   "cell_type": "code",
   "execution_count": 5,
   "metadata": {},
   "outputs": [],
   "source": [
    "from sklearn.metrics import recall_score, precision_score, f1_score, confusion_matrix"
   ]
  },
  {
   "cell_type": "code",
   "execution_count": 6,
   "metadata": {},
   "outputs": [],
   "source": [
    "from catboost import Pool, CatBoostClassifier\n",
    "import catboost"
   ]
  },
  {
   "cell_type": "code",
   "execution_count": 7,
   "metadata": {},
   "outputs": [],
   "source": [
    "treatment_columns = ['tumor_size_cm_preTrt_preSurgery', \n",
    "                     'tumor_size_cm_secondAxis_preTrt_preSurgery', \n",
    "                     'preTrt_lymph_node_status', \n",
    "                     'preTrt_totalLymphNodes', \n",
    "                     'preTrt_numPosLymphNodes', \n",
    "                     'hist_grade', \n",
    "                     'nuclear_grade_preTrt', \n",
    "                     'age', 'race', 'menopausal_status', 'surgery_type', 'intarvenous', 'intramuscular', 'oral', \n",
    "                     'radiotherapyClass', 'chemotherapyClass', 'hormone_therapyClass', 'postmenopausal_only',\n",
    "                     'immediate_biol_target', 'anthracycline', 'taxane', 'anti_estrogen', 'aromatase_inhibitor',\n",
    "                     'estrogen_receptor_blocker', 'estrogen_receptor_blocker_and_stops_production', \n",
    "                     'estrogen_receptor_blocker_and_eliminator', 'anti_HER2', \n",
    "                     'tamoxifen', 'doxorubicin', \n",
    "                     'epirubicin', 'docetaxel', 'capecitabine', 'fluorouracil',\n",
    "                     'paclitaxel', 'cyclophosphamide', 'anastrozole', \n",
    "                     'fulvestrant', 'gefitinib', 'trastuzumab', 'letrozole', 'chemotherapy', 'hormone_therapy',\n",
    "                     'no_treatment', 'methotrexate', 'cetuximab', 'carboplatin', 'other', 'taxaneGeneral']"
   ]
  },
  {
   "cell_type": "code",
   "execution_count": 8,
   "metadata": {},
   "outputs": [],
   "source": [
    "cancer_data_dir = '/home/noskill/projects/cancer/data'\n",
    "dump_dir = os.path.join(cancer_data_dir, 'bcDump/example15bmc')\n",
    "clinical_table_path = os.path.join(cancer_data_dir, 'bcClinicalTable.csv')\n",
    "merged_path = os.path.join(dump_dir, 'ex15bmcMerged.csv.xz')\n",
    "bmc_all_path = os.path.join(dump_dir, 'bmc15mldata1.csv')"
   ]
  },
  {
   "cell_type": "code",
   "execution_count": 9,
   "metadata": {},
   "outputs": [],
   "source": [
    "dtype = {'DFS': pandas.Int64Dtype(),\n",
    "         'pCR': pandas.Int64Dtype(),\n",
    "         'RFS': pandas.Int64Dtype(), \n",
    "         'DFS': pandas.Int64Dtype(), \n",
    "         'posOutcome': pandas.Int64Dtype()}"
   ]
  },
  {
   "cell_type": "markdown",
   "metadata": {},
   "source": [
    "# Convertors for mapping string data to numbers"
   ]
  },
  {
   "cell_type": "code",
   "execution_count": 10,
   "metadata": {},
   "outputs": [],
   "source": [
    "def convert_surgery(x, surgery_mapping=dict()):\n",
    "    if x not in surgery_mapping:\n",
    "        surgery_mapping[x] = len(surgery_mapping) + 1\n",
    "    return surgery_mapping[x]\n",
    "\n",
    "\n",
    "def convert_node_status(x, mapping=dict()):\n",
    "    if x == 'NA' or x == 'NaN':\n",
    "        return numpy.nan\n",
    "    if not isinstance(x, str) and numpy.isnan(x):\n",
    "        return x\n",
    "    if x not in mapping:\n",
    "        mapping[x] = len(mapping) + 1\n",
    "    return mapping[x]\n",
    "\n",
    "\n",
    "def convert_race(x, mapping=dict()):\n",
    "    return convert_node_status(x, mapping)\n",
    "\n",
    "def convert_menapause(x, mapping=dict()):\n",
    "    return convert_node_status(x, mapping)\n",
    "\n",
    "converters=dict(preTrt_lymph_node_status=convert_node_status,\n",
    "               race=convert_race,\n",
    "               menopausal_status=convert_menapause,\n",
    "               surgery_type=convert_surgery,\n",
    "               surgery=convert_surgery)"
   ]
  },
  {
   "cell_type": "markdown",
   "metadata": {},
   "source": [
    "# load averaged treatment table"
   ]
  },
  {
   "cell_type": "code",
   "execution_count": 11,
   "metadata": {},
   "outputs": [],
   "source": [
    "bmc = pandas.read_csv(bmc_all_path, dtype=dtype, converters=converters)\n",
    "bmc = bmc.sort_values(by='patient_ID')"
   ]
  },
  {
   "cell_type": "markdown",
   "metadata": {},
   "source": [
    "# load detailed treatment"
   ]
  },
  {
   "cell_type": "code",
   "execution_count": 12,
   "metadata": {},
   "outputs": [],
   "source": [
    "treatment = pandas.read_csv(clinical_table_path, converters=converters).sort_values(by='patient_ID')\n",
    "treatment = treatment[treatment.patient_ID.isin(bmc.patient_ID)]"
   ]
  },
  {
   "cell_type": "code",
   "execution_count": 14,
   "metadata": {},
   "outputs": [
    {
     "data": {
      "text/html": [
       "<div>\n",
       "<style scoped>\n",
       "    .dataframe tbody tr th:only-of-type {\n",
       "        vertical-align: middle;\n",
       "    }\n",
       "\n",
       "    .dataframe tbody tr th {\n",
       "        vertical-align: top;\n",
       "    }\n",
       "\n",
       "    .dataframe thead th {\n",
       "        text-align: right;\n",
       "    }\n",
       "</style>\n",
       "<table border=\"1\" class=\"dataframe\">\n",
       "  <thead>\n",
       "    <tr style=\"text-align: right;\">\n",
       "      <th></th>\n",
       "      <th>study</th>\n",
       "      <th>patient_ID</th>\n",
       "      <th>radio</th>\n",
       "      <th>surgery</th>\n",
       "      <th>chemo</th>\n",
       "      <th>hormone</th>\n",
       "      <th>pCR</th>\n",
       "      <th>RFS</th>\n",
       "      <th>DFS</th>\n",
       "      <th>posOutcome</th>\n",
       "    </tr>\n",
       "  </thead>\n",
       "  <tbody>\n",
       "    <tr>\n",
       "      <th>0</th>\n",
       "      <td>study_1379_GPL1223_all-bmc15</td>\n",
       "      <td>22449</td>\n",
       "      <td>0</td>\n",
       "      <td>1</td>\n",
       "      <td>0</td>\n",
       "      <td>1</td>\n",
       "      <td>&lt;NA&gt;</td>\n",
       "      <td>&lt;NA&gt;</td>\n",
       "      <td>0</td>\n",
       "      <td>0</td>\n",
       "    </tr>\n",
       "    <tr>\n",
       "      <th>1</th>\n",
       "      <td>study_1379_GPL1223_all-bmc15</td>\n",
       "      <td>22450</td>\n",
       "      <td>0</td>\n",
       "      <td>1</td>\n",
       "      <td>0</td>\n",
       "      <td>1</td>\n",
       "      <td>&lt;NA&gt;</td>\n",
       "      <td>&lt;NA&gt;</td>\n",
       "      <td>0</td>\n",
       "      <td>0</td>\n",
       "    </tr>\n",
       "    <tr>\n",
       "      <th>2</th>\n",
       "      <td>study_1379_GPL1223_all-bmc15</td>\n",
       "      <td>22451</td>\n",
       "      <td>0</td>\n",
       "      <td>1</td>\n",
       "      <td>0</td>\n",
       "      <td>1</td>\n",
       "      <td>&lt;NA&gt;</td>\n",
       "      <td>&lt;NA&gt;</td>\n",
       "      <td>0</td>\n",
       "      <td>0</td>\n",
       "    </tr>\n",
       "    <tr>\n",
       "      <th>3</th>\n",
       "      <td>study_1379_GPL1223_all-bmc15</td>\n",
       "      <td>22452</td>\n",
       "      <td>0</td>\n",
       "      <td>1</td>\n",
       "      <td>0</td>\n",
       "      <td>1</td>\n",
       "      <td>&lt;NA&gt;</td>\n",
       "      <td>&lt;NA&gt;</td>\n",
       "      <td>0</td>\n",
       "      <td>0</td>\n",
       "    </tr>\n",
       "    <tr>\n",
       "      <th>4</th>\n",
       "      <td>study_1379_GPL1223_all-bmc15</td>\n",
       "      <td>22453</td>\n",
       "      <td>0</td>\n",
       "      <td>1</td>\n",
       "      <td>0</td>\n",
       "      <td>1</td>\n",
       "      <td>&lt;NA&gt;</td>\n",
       "      <td>&lt;NA&gt;</td>\n",
       "      <td>1</td>\n",
       "      <td>1</td>\n",
       "    </tr>\n",
       "  </tbody>\n",
       "</table>\n",
       "</div>"
      ],
      "text/plain": [
       "                          study  patient_ID  radio  surgery  chemo  hormone  \\\n",
       "0  study_1379_GPL1223_all-bmc15       22449      0        1      0        1   \n",
       "1  study_1379_GPL1223_all-bmc15       22450      0        1      0        1   \n",
       "2  study_1379_GPL1223_all-bmc15       22451      0        1      0        1   \n",
       "3  study_1379_GPL1223_all-bmc15       22452      0        1      0        1   \n",
       "4  study_1379_GPL1223_all-bmc15       22453      0        1      0        1   \n",
       "\n",
       "    pCR   RFS  DFS  posOutcome  \n",
       "0  <NA>  <NA>    0           0  \n",
       "1  <NA>  <NA>    0           0  \n",
       "2  <NA>  <NA>    0           0  \n",
       "3  <NA>  <NA>    0           0  \n",
       "4  <NA>  <NA>    1           1  "
      ]
     },
     "execution_count": 14,
     "metadata": {},
     "output_type": "execute_result"
    }
   ],
   "source": [
    "bmc.head()"
   ]
  },
  {
   "cell_type": "markdown",
   "metadata": {},
   "source": [
    "# load genes expression data"
   ]
  },
  {
   "cell_type": "code",
   "execution_count": 15,
   "metadata": {},
   "outputs": [],
   "source": [
    "gene_expression = pandas.read_csv(lzma.open(merged_path))"
   ]
  },
  {
   "cell_type": "code",
   "execution_count": 16,
   "metadata": {},
   "outputs": [
    {
     "data": {
      "text/html": [
       "<div>\n",
       "<style scoped>\n",
       "    .dataframe tbody tr th:only-of-type {\n",
       "        vertical-align: middle;\n",
       "    }\n",
       "\n",
       "    .dataframe tbody tr th {\n",
       "        vertical-align: top;\n",
       "    }\n",
       "\n",
       "    .dataframe thead th {\n",
       "        text-align: right;\n",
       "    }\n",
       "</style>\n",
       "<table border=\"1\" class=\"dataframe\">\n",
       "  <thead>\n",
       "    <tr style=\"text-align: right;\">\n",
       "      <th></th>\n",
       "      <th>patient_ID</th>\n",
       "      <th>MAGEA12</th>\n",
       "      <th>MAGEA11</th>\n",
       "      <th>KLF1</th>\n",
       "      <th>ADH7</th>\n",
       "      <th>MSH4</th>\n",
       "      <th>BIRC3</th>\n",
       "      <th>AKR1C4</th>\n",
       "      <th>GBX2</th>\n",
       "      <th>GCGR</th>\n",
       "      <th>...</th>\n",
       "      <th>ZNF80</th>\n",
       "      <th>ZNF83</th>\n",
       "      <th>ZNF84</th>\n",
       "      <th>ZNF91</th>\n",
       "      <th>ZNHIT2</th>\n",
       "      <th>ZSCAN2</th>\n",
       "      <th>ZXDC</th>\n",
       "      <th>ZYX</th>\n",
       "      <th>ZZEF1</th>\n",
       "      <th>ZZZ3</th>\n",
       "    </tr>\n",
       "  </thead>\n",
       "  <tbody>\n",
       "    <tr>\n",
       "      <th>0</th>\n",
       "      <td>22449</td>\n",
       "      <td>-0.118953</td>\n",
       "      <td>1.180345</td>\n",
       "      <td>0.252643</td>\n",
       "      <td>-0.262987</td>\n",
       "      <td>0.142903</td>\n",
       "      <td>0.167314</td>\n",
       "      <td>0.498846</td>\n",
       "      <td>0.774632</td>\n",
       "      <td>0.104353</td>\n",
       "      <td>...</td>\n",
       "      <td>-1.564143</td>\n",
       "      <td>0.466733</td>\n",
       "      <td>0.827552</td>\n",
       "      <td>-0.617981</td>\n",
       "      <td>0.303161</td>\n",
       "      <td>1.260602</td>\n",
       "      <td>-0.217995</td>\n",
       "      <td>0.219529</td>\n",
       "      <td>0.389849</td>\n",
       "      <td>1.313703</td>\n",
       "    </tr>\n",
       "    <tr>\n",
       "      <th>1</th>\n",
       "      <td>22450</td>\n",
       "      <td>0.423693</td>\n",
       "      <td>-0.922374</td>\n",
       "      <td>-1.202192</td>\n",
       "      <td>-0.105451</td>\n",
       "      <td>-0.061571</td>\n",
       "      <td>-0.093231</td>\n",
       "      <td>-0.095550</td>\n",
       "      <td>-0.481403</td>\n",
       "      <td>-0.214238</td>\n",
       "      <td>...</td>\n",
       "      <td>0.711752</td>\n",
       "      <td>0.358388</td>\n",
       "      <td>0.037911</td>\n",
       "      <td>2.304784</td>\n",
       "      <td>0.328942</td>\n",
       "      <td>-1.028791</td>\n",
       "      <td>-0.850002</td>\n",
       "      <td>-0.292574</td>\n",
       "      <td>-0.068982</td>\n",
       "      <td>0.722123</td>\n",
       "    </tr>\n",
       "    <tr>\n",
       "      <th>2</th>\n",
       "      <td>22451</td>\n",
       "      <td>-0.239183</td>\n",
       "      <td>-0.733389</td>\n",
       "      <td>0.523791</td>\n",
       "      <td>-0.081958</td>\n",
       "      <td>-0.004635</td>\n",
       "      <td>-0.008094</td>\n",
       "      <td>0.268636</td>\n",
       "      <td>-0.614192</td>\n",
       "      <td>0.027471</td>\n",
       "      <td>...</td>\n",
       "      <td>-0.011786</td>\n",
       "      <td>-0.474762</td>\n",
       "      <td>-0.349981</td>\n",
       "      <td>-0.097197</td>\n",
       "      <td>0.100946</td>\n",
       "      <td>-0.554700</td>\n",
       "      <td>-0.367363</td>\n",
       "      <td>0.094464</td>\n",
       "      <td>-0.372665</td>\n",
       "      <td>-0.790771</td>\n",
       "    </tr>\n",
       "    <tr>\n",
       "      <th>3</th>\n",
       "      <td>22452</td>\n",
       "      <td>0.500445</td>\n",
       "      <td>-0.177686</td>\n",
       "      <td>-0.216638</td>\n",
       "      <td>-0.130850</td>\n",
       "      <td>-0.261039</td>\n",
       "      <td>-0.048521</td>\n",
       "      <td>1.479664</td>\n",
       "      <td>-0.100120</td>\n",
       "      <td>0.233178</td>\n",
       "      <td>...</td>\n",
       "      <td>0.757255</td>\n",
       "      <td>0.590212</td>\n",
       "      <td>0.060150</td>\n",
       "      <td>2.287583</td>\n",
       "      <td>-0.108866</td>\n",
       "      <td>-1.132500</td>\n",
       "      <td>-0.106976</td>\n",
       "      <td>-0.216267</td>\n",
       "      <td>0.393671</td>\n",
       "      <td>-0.027349</td>\n",
       "    </tr>\n",
       "    <tr>\n",
       "      <th>4</th>\n",
       "      <td>22453</td>\n",
       "      <td>-0.609235</td>\n",
       "      <td>0.259494</td>\n",
       "      <td>-0.071802</td>\n",
       "      <td>0.027963</td>\n",
       "      <td>0.162509</td>\n",
       "      <td>0.112654</td>\n",
       "      <td>-0.239435</td>\n",
       "      <td>0.229737</td>\n",
       "      <td>-0.132271</td>\n",
       "      <td>...</td>\n",
       "      <td>0.407159</td>\n",
       "      <td>0.570637</td>\n",
       "      <td>0.851658</td>\n",
       "      <td>-0.412950</td>\n",
       "      <td>0.105692</td>\n",
       "      <td>-1.047445</td>\n",
       "      <td>0.084480</td>\n",
       "      <td>-0.224081</td>\n",
       "      <td>-0.021074</td>\n",
       "      <td>0.764555</td>\n",
       "    </tr>\n",
       "  </tbody>\n",
       "</table>\n",
       "<p>5 rows × 8833 columns</p>\n",
       "</div>"
      ],
      "text/plain": [
       "   patient_ID   MAGEA12   MAGEA11      KLF1      ADH7      MSH4     BIRC3  \\\n",
       "0       22449 -0.118953  1.180345  0.252643 -0.262987  0.142903  0.167314   \n",
       "1       22450  0.423693 -0.922374 -1.202192 -0.105451 -0.061571 -0.093231   \n",
       "2       22451 -0.239183 -0.733389  0.523791 -0.081958 -0.004635 -0.008094   \n",
       "3       22452  0.500445 -0.177686 -0.216638 -0.130850 -0.261039 -0.048521   \n",
       "4       22453 -0.609235  0.259494 -0.071802  0.027963  0.162509  0.112654   \n",
       "\n",
       "     AKR1C4      GBX2      GCGR  ...     ZNF80     ZNF83     ZNF84     ZNF91  \\\n",
       "0  0.498846  0.774632  0.104353  ... -1.564143  0.466733  0.827552 -0.617981   \n",
       "1 -0.095550 -0.481403 -0.214238  ...  0.711752  0.358388  0.037911  2.304784   \n",
       "2  0.268636 -0.614192  0.027471  ... -0.011786 -0.474762 -0.349981 -0.097197   \n",
       "3  1.479664 -0.100120  0.233178  ...  0.757255  0.590212  0.060150  2.287583   \n",
       "4 -0.239435  0.229737 -0.132271  ...  0.407159  0.570637  0.851658 -0.412950   \n",
       "\n",
       "     ZNHIT2    ZSCAN2      ZXDC       ZYX     ZZEF1      ZZZ3  \n",
       "0  0.303161  1.260602 -0.217995  0.219529  0.389849  1.313703  \n",
       "1  0.328942 -1.028791 -0.850002 -0.292574 -0.068982  0.722123  \n",
       "2  0.100946 -0.554700 -0.367363  0.094464 -0.372665 -0.790771  \n",
       "3 -0.108866 -1.132500 -0.106976 -0.216267  0.393671 -0.027349  \n",
       "4  0.105692 -1.047445  0.084480 -0.224081 -0.021074  0.764555  \n",
       "\n",
       "[5 rows x 8833 columns]"
      ]
     },
     "execution_count": 16,
     "metadata": {},
     "output_type": "execute_result"
    }
   ],
   "source": [
    "gene_expression.head(5)"
   ]
  },
  {
   "cell_type": "code",
   "execution_count": 17,
   "metadata": {},
   "outputs": [],
   "source": [
    "genes_features = gene_expression[gene_expression.patient_ID.isin(bmc.patient_ID)]"
   ]
  },
  {
   "cell_type": "code",
   "execution_count": 18,
   "metadata": {},
   "outputs": [],
   "source": [
    "genes_features = genes_features.sort_values(by='patient_ID')"
   ]
  },
  {
   "cell_type": "markdown",
   "metadata": {},
   "source": [
    "# columns to use for training"
   ]
  },
  {
   "cell_type": "code",
   "execution_count": 86,
   "metadata": {},
   "outputs": [],
   "source": [
    "aggregated_treatment_columns = ['radio', 'surgery', 'chemo', 'hormone']\n",
    "label_columns = ['pCR', 'RFS', 'DFS', 'posOutcome']\n",
    "label_columns = ['posOutcome']\n",
    "feature_columns = genes_features.columns.to_list()[1:] + aggregated_treatment_columns"
   ]
  },
  {
   "cell_type": "markdown",
   "metadata": {},
   "source": [
    "## merge genes expression + averaged treatment + detailed treatment"
   ]
  },
  {
   "cell_type": "code",
   "execution_count": 52,
   "metadata": {},
   "outputs": [],
   "source": [
    "merged = pandas.merge(genes_features, bmc, left_on='patient_ID', right_on='patient_ID')\n",
    "merged = pandas.merge(merged, treatment, left_on='patient_ID', right_on='patient_ID')"
   ]
  },
  {
   "cell_type": "code",
   "execution_count": 53,
   "metadata": {},
   "outputs": [],
   "source": [
    "def split_by_study(study_name=None):\n",
    "    \"\"\"\n",
    "    Split one study out for cross-validation\n",
    "    \"\"\"\n",
    "    for eval_study in set(bmc.study):\n",
    "        if study_name:\n",
    "            eval_study = study_name\n",
    "        print(eval_study)\n",
    "        bmc_train = bmc[bmc.study != eval_study]\n",
    "        bmc_val = bmc[bmc.study == eval_study]\n",
    "        assert (not set(bmc_train.patient_ID).intersection(set(bmc_val.patient_ID)))\n",
    "\n",
    "        train_split = merged[merged.patient_ID.isin(bmc_train.patient_ID)]\n",
    "        val_split = merged[merged.patient_ID.isin(bmc_val.patient_ID)]\n",
    "        assert val_split.patient_ID.to_list() == bmc_val.patient_ID.to_list()\n",
    "        train_data = train_split[feature_columns].to_numpy()\n",
    "        train_labels = train_split[label_columns].to_numpy().astype(int)\n",
    "        val_data = val_split[feature_columns].to_numpy()\n",
    "        val_labels = val_split[label_columns].to_numpy().astype(int)\n",
    "        yield train_data, train_labels, val_data, val_labels\n",
    "        if study_name:\n",
    "            break"
   ]
  },
  {
   "cell_type": "code",
   "execution_count": 54,
   "metadata": {},
   "outputs": [],
   "source": [
    "def select_balanced_idx(study, num):\n",
    "    if not num % 2 == 0:\n",
    "        num = num + 1\n",
    "    validation = []\n",
    "    pos_outcome = study[study.posOutcome == 1].patient_ID\n",
    "    neg_outcome = study[study.posOutcome == 0].patient_ID\n",
    "    pos_idx = numpy.arange(len(pos_outcome))\n",
    "    neg_idx = numpy.arange(len(neg_outcome))\n",
    "    random.shuffle(pos_idx)\n",
    "    random.shuffle(neg_idx)\n",
    "    i = 0\n",
    "    while not (len(validation) >= num):\n",
    "        validation.append(pos_outcome.iloc[pos_idx[i]])\n",
    "        validation.append(neg_outcome.iloc[neg_idx[i]])\n",
    "        i += 1\n",
    "    train = study[~study.patient_ID.isin(validation)]\n",
    "    validation = study[study.patient_ID.isin(validation)]\n",
    "    return train, validation"
   ]
  },
  {
   "cell_type": "code",
   "execution_count": 82,
   "metadata": {},
   "outputs": [],
   "source": [
    "def random_split(ratio=0.1):\n",
    "    \"\"\"\n",
    "    Split dataset into train and validation sets:\n",
    "    --------------\n",
    "    Returns: train_data, train_labels, val_data, val_labels, expected\n",
    "        expected - confusion matrix expected from classification by ratio of positive/negative for each study\n",
    "    \"\"\"\n",
    "    val_patients = []\n",
    "    train_patients = []\n",
    "    expected = dict()\n",
    "    expected['TN'] = 0\n",
    "    expected['FN'] = 0\n",
    "    expected['FP'] = 0\n",
    "    expected['TP'] = 0\n",
    "    for eval_study in set(bmc.study):\n",
    "        study = bmc[bmc.study == eval_study]\n",
    "        num_select = math.ceil(len(study) * ratio)\n",
    "        study_patients = bmc[bmc.study == eval_study]\n",
    "        bmc_train, bmc_val = select_balanced_idx(study_patients, num_select)\n",
    "        pos_prob_train = bmc_train.posOutcome.sum() / len(bmc_train)\n",
    "        neg_prob_train = 1 - pos_prob_train\n",
    "        P = bmc_val.posOutcome.sum()\n",
    "        N = len(bmc_val) - P\n",
    "        TN = N * neg_prob_train\n",
    "        TP= P * pos_prob_train\n",
    "        FP = N - TN\n",
    "        FN = P - TP\n",
    "        expected['TN'] += TN\n",
    "        expected['TP'] += TP\n",
    "        expected['FP'] += FP\n",
    "        expected['FN'] += FN\n",
    "        val_patients += bmc_val.patient_ID.to_list()\n",
    "        train_patients += bmc_train.patient_ID.to_list()\n",
    "        \n",
    "    train_split = merged[merged.patient_ID.isin(train_patients)]\n",
    "    val_split = merged[merged.patient_ID.isin(val_patients)]\n",
    "    train_data = train_split[feature_columns].to_numpy()\n",
    "    train_labels = train_split[label_columns].to_numpy().astype(int).ravel()\n",
    "    val_data = val_split[feature_columns].to_numpy()\n",
    "    val_labels = val_split[label_columns].to_numpy().astype(int).ravel()\n",
    "    return train_data, train_labels, val_data, val_labels, expected"
   ]
  },
  {
   "cell_type": "code",
   "execution_count": 85,
   "metadata": {},
   "outputs": [],
   "source": [
    "def compute_metrics(result, y_true, y_pred, x_true, x_pred):\n",
    "    result['recall'].append(recall_score(y_true, y_pred))\n",
    "    result['precision'].append( precision_score(y_true, y_pred))\n",
    "    result['f1'].append(f1_score(y_true, y_pred))\n",
    "    result['confusion'].append(confusion_matrix(y_true, y_pred))\n",
    "    result['train_f1'].append(f1_score(x_true, x_pred))\n",
    "    result['train_confusion'].append(confusion_matrix(x_true, x_pred))\n",
    "    confusion = result['confusion'][-1]\n",
    "    accuracy = (confusion[0][0] + confusion[1][1]) / (sum(confusion[0]) + sum(confusion[1]))\n",
    "    result['accuracy'].append(accuracy)"
   ]
  },
  {
   "cell_type": "markdown",
   "metadata": {},
   "source": [
    "# catboost"
   ]
  },
  {
   "cell_type": "code",
   "execution_count": null,
   "metadata": {},
   "outputs": [],
   "source": [
    "res = defaultdict(list)\n",
    "model = CatBoostClassifier(iterations=3600,\n",
    "                           depth=4,\n",
    "                           use_best_model=True,\n",
    "                           learning_rate=0.015,\n",
    "                           loss_function='Logloss',\n",
    "                           model_size_reg=2,\n",
    "                           verbose=True,\n",
    "                           scale_pos_weight=0.605,\n",
    "                           l2_leaf_reg=2,\n",
    "                           od_type='Iter', od_wait=200)\n",
    "train_data, train_labels, val_data, val_labels, expected = random_split()\n",
    "catboost_pool = Pool(train_data, \n",
    "                    train_labels)\n",
    "\n",
    "test_data = Pool(val_data,\n",
    "                 val_labels) \n",
    "# train the model\n",
    "clf = model.fit(train_data, train_labels, \n",
    "          eval_set=test_data,\n",
    "          save_snapshot=False, snapshot_file='vasya')\n",
    "y_pred = clf.predict(val_data)\n",
    "x_pred = clf.predict(train_data)\n",
    "compute_metrics(res, val_labels.flatten(), y_pred, train_labels, x_pred)\n",
    "res"
   ]
  },
  {
   "cell_type": "markdown",
   "metadata": {},
   "source": [
    "# SVM"
   ]
  },
  {
   "cell_type": "code",
   "execution_count": 90,
   "metadata": {},
   "outputs": [
    {
     "name": "stdout",
     "output_type": "stream",
     "text": [
      "recall: 0.575\n",
      "precision: 0.5307692307692308\n",
      "f1: 0.5519999999999999\n",
      "confusion: [[59 61]\n",
      " [51 69]]\n",
      "train_f1: 1.0\n",
      "train_confusion: [[ 719    0]\n",
      " [   0 1266]]\n",
      "accuracy: 0.5333333333333333\n"
     ]
    }
   ],
   "source": [
    "from sklearn import datasets, svm, metrics\n",
    "svm_total = defaultdict(list)\n",
    "model = svm.SVC(C=1, kernel='linear', class_weight={1: 0.5})\n",
    "train_data, train_labels, val_data, val_labels, expected = random_split()\n",
    "# train the model\n",
    "clf = model.fit(numpy.nan_to_num(train_data), numpy.nan_to_num(train_labels))\n",
    "y_pred = clf.predict(numpy.nan_to_num(val_data))\n",
    "x_pred = clf.predict(numpy.nan_to_num(train_data))\n",
    "compute_metrics(svm_total, val_labels.flatten(), y_pred, train_labels, x_pred)\n",
    "for key in svm_total:\n",
    "    print('{0}: {1}'.format(key, svm_total[key][-1]))"
   ]
  },
  {
   "cell_type": "code",
   "execution_count": 91,
   "metadata": {},
   "outputs": [
    {
     "name": "stdout",
     "output_type": "stream",
     "text": [
      "(1985, 8836)\n",
      "(240, 8836)\n"
     ]
    }
   ],
   "source": [
    "print(train_data.shape)\n",
    "print(val_data.shape)"
   ]
  },
  {
   "cell_type": "markdown",
   "metadata": {},
   "source": [
    "# moses"
   ]
  },
  {
   "cell_type": "code",
   "execution_count": 92,
   "metadata": {},
   "outputs": [
    {
     "ename": "ImportError",
     "evalue": "/usr/local/lib/python3.6/dist-packages/opencog/atomspace.so: undefined symbol: _ZN7opencog9AtomSpace8add_atomERKNS_6HandleEb",
     "output_type": "error",
     "traceback": [
      "\u001b[0;31m---------------------------------------------------------------------------\u001b[0m",
      "\u001b[0;31mImportError\u001b[0m                               Traceback (most recent call last)",
      "\u001b[0;32m<ipython-input-92-adae5a5527ea>\u001b[0m in \u001b[0;36m<module>\u001b[0;34m()\u001b[0m\n\u001b[0;32m----> 1\u001b[0;31m \u001b[0;32mfrom\u001b[0m \u001b[0mopencog\u001b[0m\u001b[0;34m.\u001b[0m\u001b[0matomspace\u001b[0m \u001b[0;32mimport\u001b[0m \u001b[0mAtomSpace\u001b[0m\u001b[0;34m\u001b[0m\u001b[0;34m\u001b[0m\u001b[0m\n\u001b[0m\u001b[1;32m      2\u001b[0m \u001b[0;32mfrom\u001b[0m \u001b[0mopencog\u001b[0m\u001b[0;34m.\u001b[0m\u001b[0mpymoses\u001b[0m \u001b[0;32mimport\u001b[0m \u001b[0mmoses\u001b[0m\u001b[0;34m\u001b[0m\u001b[0;34m\u001b[0m\u001b[0m\n\u001b[1;32m      3\u001b[0m \u001b[0;32mfrom\u001b[0m \u001b[0mopencog\u001b[0m\u001b[0;34m.\u001b[0m\u001b[0mscheme_wrapper\u001b[0m \u001b[0;32mimport\u001b[0m \u001b[0mscheme_eval\u001b[0m\u001b[0;34m\u001b[0m\u001b[0;34m\u001b[0m\u001b[0m\n",
      "\u001b[0;31mImportError\u001b[0m: /usr/local/lib/python3.6/dist-packages/opencog/atomspace.so: undefined symbol: _ZN7opencog9AtomSpace8add_atomERKNS_6HandleEb"
     ]
    }
   ],
   "source": [
    "from opencog.atomspace import AtomSpace\n",
    "from opencog.pymoses import moses\n",
    "from opencog.scheme_wrapper import scheme_eval"
   ]
  },
  {
   "cell_type": "code",
   "execution_count": null,
   "metadata": {},
   "outputs": [],
   "source": [
    "train_data, train_labels, val_data, val_labels = next(split('study_16446_GPL570_all-bmc15'))"
   ]
  },
  {
   "cell_type": "code",
   "execution_count": null,
   "metadata": {},
   "outputs": [],
   "source": [
    "input_data = numpy.concatenate([train_labels, train_data], axis=1)"
   ]
  },
  {
   "cell_type": "code",
   "execution_count": null,
   "metadata": {},
   "outputs": [],
   "source": [
    "input_data[:,[0, 2]] = input_data[:,[2,0]]"
   ]
  },
  {
   "cell_type": "code",
   "execution_count": null,
   "metadata": {},
   "outputs": [],
   "source": [
    "min(0, 179) / max(107, 0)"
   ]
  },
  {
   "cell_type": "code",
   "execution_count": null,
   "metadata": {},
   "outputs": [],
   "source": [
    "mos = moses()"
   ]
  },
  {
   "cell_type": "code",
   "execution_count": null,
   "metadata": {},
   "outputs": [],
   "source": [
    "output = mos.run(input=input_data, python=True, args='--balance=1 -m 100000')"
   ]
  },
  {
   "cell_type": "code",
   "execution_count": null,
   "metadata": {},
   "outputs": [],
   "source": [
    "output[0].program"
   ]
  },
  {
   "cell_type": "code",
   "execution_count": null,
   "metadata": {},
   "outputs": [],
   "source": [
    "mos = moses()\n",
    "input_data = [[0, 0, 0], [1, 1, 0], [1, 0, 1], [2, 1, 1]]\n",
    "output = mos.run(input=input_data, python=True)\n",
    "print (output[0].score) # Prints: 0\n",
    "model = output[0].eval\n",
    "print(model([0, 1]))  # Returns: True\n",
    "print(model([1, 1]))  # Returns: False"
   ]
  }
 ],
 "metadata": {
  "kernelspec": {
   "display_name": "Python 3",
   "language": "python",
   "name": "python3"
  },
  "language_info": {
   "codemirror_mode": {
    "name": "ipython",
    "version": 3
   },
   "file_extension": ".py",
   "mimetype": "text/x-python",
   "name": "python",
   "nbconvert_exporter": "python",
   "pygments_lexer": "ipython3",
   "version": "3.6.9"
  }
 },
 "nbformat": 4,
 "nbformat_minor": 4
}
