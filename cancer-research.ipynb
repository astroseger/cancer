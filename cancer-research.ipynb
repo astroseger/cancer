{
 "cells": [
  {
   "cell_type": "code",
   "execution_count": 1,
   "metadata": {},
   "outputs": [],
   "source": [
    "import sys\n",
    "import os\n",
    "import lzma"
   ]
  },
  {
   "cell_type": "code",
   "execution_count": 2,
   "metadata": {},
   "outputs": [],
   "source": [
    "import catboost\n",
    "import pandas\n"
   ]
  },
  {
   "cell_type": "code",
   "execution_count": null,
   "metadata": {},
   "outputs": [],
   "source": []
  },
  {
   "cell_type": "code",
   "execution_count": 3,
   "metadata": {},
   "outputs": [],
   "source": [
    "cancer_data_dir = '/home/leron/projects/cancer/data'\n",
    "dump_dir = os.path.join(cancer_data_dir, 'bcDump/example15bmc')\n",
    "merged_path = os.path.join(dump_dir, 'ex15bmcMerged.csv.xz')\n",
    "bmc_all_path = os.path.join(dump_dir, 'bmc15mldata1.csv')"
   ]
  },
  {
   "cell_type": "code",
   "execution_count": null,
   "metadata": {},
   "outputs": [],
   "source": []
  },
  {
   "cell_type": "code",
   "execution_count": 4,
   "metadata": {},
   "outputs": [],
   "source": [
    "dtype = {'DFS': pandas.Int64Dtype(),\n",
    "         'pCR': pandas.Int64Dtype(),\n",
    "         'RFS': pandas.Int64Dtype(), \n",
    "         'DFS': pandas.Int64Dtype(), \n",
    "         'posOutcome': pandas.Int64Dtype()}"
   ]
  },
  {
   "cell_type": "code",
   "execution_count": 5,
   "metadata": {},
   "outputs": [],
   "source": [
    "surgery_mapping = dict()"
   ]
  },
  {
   "cell_type": "code",
   "execution_count": 6,
   "metadata": {},
   "outputs": [],
   "source": [
    "def convert_surgery(x):\n",
    "    if x not in surgery_mapping:\n",
    "        surgery_mapping[x] = len(surgery_mapping) + 1\n",
    "    return surgery_mapping[x]"
   ]
  },
  {
   "cell_type": "code",
   "execution_count": 7,
   "metadata": {},
   "outputs": [],
   "source": [
    "bmc = pandas.read_csv(bmc_all_path, dtype=dtype, converters=dict(surgery=convert_surgery))\n",
    "bmc = bmc.sort_values(by='patient_ID')"
   ]
  },
  {
   "cell_type": "code",
   "execution_count": 8,
   "metadata": {},
   "outputs": [
    {
     "data": {
      "text/plain": [
       "study         object\n",
       "patient_ID     int64\n",
       "radio          int64\n",
       "surgery        int64\n",
       "chemo          int64\n",
       "hormone        int64\n",
       "pCR            Int64\n",
       "RFS            Int64\n",
       "DFS            Int64\n",
       "posOutcome     Int64\n",
       "dtype: object"
      ]
     },
     "execution_count": 8,
     "metadata": {},
     "output_type": "execute_result"
    }
   ],
   "source": [
    "bmc.dtypes"
   ]
  },
  {
   "cell_type": "code",
   "execution_count": 9,
   "metadata": {},
   "outputs": [],
   "source": [
    "gene_expression = pandas.read_csv(lzma.open(merged_path))"
   ]
  },
  {
   "cell_type": "code",
   "execution_count": 10,
   "metadata": {},
   "outputs": [
    {
     "data": {
      "text/html": [
       "<div>\n",
       "<style scoped>\n",
       "    .dataframe tbody tr th:only-of-type {\n",
       "        vertical-align: middle;\n",
       "    }\n",
       "\n",
       "    .dataframe tbody tr th {\n",
       "        vertical-align: top;\n",
       "    }\n",
       "\n",
       "    .dataframe thead th {\n",
       "        text-align: right;\n",
       "    }\n",
       "</style>\n",
       "<table border=\"1\" class=\"dataframe\">\n",
       "  <thead>\n",
       "    <tr style=\"text-align: right;\">\n",
       "      <th></th>\n",
       "      <th>patient_ID</th>\n",
       "      <th>MAGEA12</th>\n",
       "      <th>MAGEA11</th>\n",
       "      <th>KLF1</th>\n",
       "      <th>ADH7</th>\n",
       "      <th>MSH4</th>\n",
       "      <th>BIRC3</th>\n",
       "      <th>AKR1C4</th>\n",
       "      <th>GBX2</th>\n",
       "      <th>GCGR</th>\n",
       "      <th>...</th>\n",
       "      <th>ZNF80</th>\n",
       "      <th>ZNF83</th>\n",
       "      <th>ZNF84</th>\n",
       "      <th>ZNF91</th>\n",
       "      <th>ZNHIT2</th>\n",
       "      <th>ZSCAN2</th>\n",
       "      <th>ZXDC</th>\n",
       "      <th>ZYX</th>\n",
       "      <th>ZZEF1</th>\n",
       "      <th>ZZZ3</th>\n",
       "    </tr>\n",
       "  </thead>\n",
       "  <tbody>\n",
       "    <tr>\n",
       "      <th>0</th>\n",
       "      <td>22449</td>\n",
       "      <td>-0.118953</td>\n",
       "      <td>1.180345</td>\n",
       "      <td>0.252643</td>\n",
       "      <td>-0.262987</td>\n",
       "      <td>0.142903</td>\n",
       "      <td>0.167314</td>\n",
       "      <td>0.498846</td>\n",
       "      <td>0.774632</td>\n",
       "      <td>0.104353</td>\n",
       "      <td>...</td>\n",
       "      <td>-1.564143</td>\n",
       "      <td>0.466733</td>\n",
       "      <td>0.827552</td>\n",
       "      <td>-0.617981</td>\n",
       "      <td>0.303161</td>\n",
       "      <td>1.260602</td>\n",
       "      <td>-0.217995</td>\n",
       "      <td>0.219529</td>\n",
       "      <td>0.389849</td>\n",
       "      <td>1.313703</td>\n",
       "    </tr>\n",
       "    <tr>\n",
       "      <th>1</th>\n",
       "      <td>22450</td>\n",
       "      <td>0.423693</td>\n",
       "      <td>-0.922374</td>\n",
       "      <td>-1.202192</td>\n",
       "      <td>-0.105451</td>\n",
       "      <td>-0.061571</td>\n",
       "      <td>-0.093231</td>\n",
       "      <td>-0.095550</td>\n",
       "      <td>-0.481403</td>\n",
       "      <td>-0.214238</td>\n",
       "      <td>...</td>\n",
       "      <td>0.711752</td>\n",
       "      <td>0.358388</td>\n",
       "      <td>0.037911</td>\n",
       "      <td>2.304784</td>\n",
       "      <td>0.328942</td>\n",
       "      <td>-1.028791</td>\n",
       "      <td>-0.850002</td>\n",
       "      <td>-0.292574</td>\n",
       "      <td>-0.068982</td>\n",
       "      <td>0.722123</td>\n",
       "    </tr>\n",
       "    <tr>\n",
       "      <th>2</th>\n",
       "      <td>22451</td>\n",
       "      <td>-0.239183</td>\n",
       "      <td>-0.733389</td>\n",
       "      <td>0.523791</td>\n",
       "      <td>-0.081958</td>\n",
       "      <td>-0.004635</td>\n",
       "      <td>-0.008094</td>\n",
       "      <td>0.268636</td>\n",
       "      <td>-0.614192</td>\n",
       "      <td>0.027471</td>\n",
       "      <td>...</td>\n",
       "      <td>-0.011786</td>\n",
       "      <td>-0.474762</td>\n",
       "      <td>-0.349981</td>\n",
       "      <td>-0.097197</td>\n",
       "      <td>0.100946</td>\n",
       "      <td>-0.554700</td>\n",
       "      <td>-0.367363</td>\n",
       "      <td>0.094464</td>\n",
       "      <td>-0.372665</td>\n",
       "      <td>-0.790771</td>\n",
       "    </tr>\n",
       "    <tr>\n",
       "      <th>3</th>\n",
       "      <td>22452</td>\n",
       "      <td>0.500445</td>\n",
       "      <td>-0.177686</td>\n",
       "      <td>-0.216638</td>\n",
       "      <td>-0.130850</td>\n",
       "      <td>-0.261039</td>\n",
       "      <td>-0.048521</td>\n",
       "      <td>1.479664</td>\n",
       "      <td>-0.100120</td>\n",
       "      <td>0.233178</td>\n",
       "      <td>...</td>\n",
       "      <td>0.757255</td>\n",
       "      <td>0.590212</td>\n",
       "      <td>0.060150</td>\n",
       "      <td>2.287583</td>\n",
       "      <td>-0.108866</td>\n",
       "      <td>-1.132500</td>\n",
       "      <td>-0.106976</td>\n",
       "      <td>-0.216267</td>\n",
       "      <td>0.393671</td>\n",
       "      <td>-0.027349</td>\n",
       "    </tr>\n",
       "    <tr>\n",
       "      <th>4</th>\n",
       "      <td>22453</td>\n",
       "      <td>-0.609235</td>\n",
       "      <td>0.259494</td>\n",
       "      <td>-0.071802</td>\n",
       "      <td>0.027963</td>\n",
       "      <td>0.162509</td>\n",
       "      <td>0.112654</td>\n",
       "      <td>-0.239435</td>\n",
       "      <td>0.229737</td>\n",
       "      <td>-0.132271</td>\n",
       "      <td>...</td>\n",
       "      <td>0.407159</td>\n",
       "      <td>0.570637</td>\n",
       "      <td>0.851658</td>\n",
       "      <td>-0.412950</td>\n",
       "      <td>0.105692</td>\n",
       "      <td>-1.047445</td>\n",
       "      <td>0.084480</td>\n",
       "      <td>-0.224081</td>\n",
       "      <td>-0.021074</td>\n",
       "      <td>0.764555</td>\n",
       "    </tr>\n",
       "  </tbody>\n",
       "</table>\n",
       "<p>5 rows × 8833 columns</p>\n",
       "</div>"
      ],
      "text/plain": [
       "   patient_ID   MAGEA12   MAGEA11      KLF1      ADH7      MSH4     BIRC3  \\\n",
       "0       22449 -0.118953  1.180345  0.252643 -0.262987  0.142903  0.167314   \n",
       "1       22450  0.423693 -0.922374 -1.202192 -0.105451 -0.061571 -0.093231   \n",
       "2       22451 -0.239183 -0.733389  0.523791 -0.081958 -0.004635 -0.008094   \n",
       "3       22452  0.500445 -0.177686 -0.216638 -0.130850 -0.261039 -0.048521   \n",
       "4       22453 -0.609235  0.259494 -0.071802  0.027963  0.162509  0.112654   \n",
       "\n",
       "     AKR1C4      GBX2      GCGR  ...     ZNF80     ZNF83     ZNF84     ZNF91  \\\n",
       "0  0.498846  0.774632  0.104353  ... -1.564143  0.466733  0.827552 -0.617981   \n",
       "1 -0.095550 -0.481403 -0.214238  ...  0.711752  0.358388  0.037911  2.304784   \n",
       "2  0.268636 -0.614192  0.027471  ... -0.011786 -0.474762 -0.349981 -0.097197   \n",
       "3  1.479664 -0.100120  0.233178  ...  0.757255  0.590212  0.060150  2.287583   \n",
       "4 -0.239435  0.229737 -0.132271  ...  0.407159  0.570637  0.851658 -0.412950   \n",
       "\n",
       "     ZNHIT2    ZSCAN2      ZXDC       ZYX     ZZEF1      ZZZ3  \n",
       "0  0.303161  1.260602 -0.217995  0.219529  0.389849  1.313703  \n",
       "1  0.328942 -1.028791 -0.850002 -0.292574 -0.068982  0.722123  \n",
       "2  0.100946 -0.554700 -0.367363  0.094464 -0.372665 -0.790771  \n",
       "3 -0.108866 -1.132500 -0.106976 -0.216267  0.393671 -0.027349  \n",
       "4  0.105692 -1.047445  0.084480 -0.224081 -0.021074  0.764555  \n",
       "\n",
       "[5 rows x 8833 columns]"
      ]
     },
     "execution_count": 10,
     "metadata": {},
     "output_type": "execute_result"
    }
   ],
   "source": [
    "gene_expression.head(5)"
   ]
  },
  {
   "cell_type": "code",
   "execution_count": 11,
   "metadata": {},
   "outputs": [],
   "source": [
    "train_feat = gene_expression[gene_expression.patient_ID.isin(bmc.patient_ID)]"
   ]
  },
  {
   "cell_type": "code",
   "execution_count": 12,
   "metadata": {},
   "outputs": [],
   "source": [
    "train_feat = train_feat.sort_values(by='patient_ID')"
   ]
  },
  {
   "cell_type": "code",
   "execution_count": null,
   "metadata": {},
   "outputs": [],
   "source": []
  },
  {
   "cell_type": "code",
   "execution_count": 13,
   "metadata": {},
   "outputs": [],
   "source": [
    "feature_columns = train_feat.columns.to_list()[1:] + ['radio', 'surgery', 'chemo', 'hormone']\n",
    "label_columns = ['pCR', 'RFS', 'DFS', 'posOutcome']\n",
    "label_columns = ['posOutcome']"
   ]
  },
  {
   "cell_type": "code",
   "execution_count": 14,
   "metadata": {},
   "outputs": [],
   "source": [
    "assert(bmc.patient_ID.to_list() == train_feat.patient_ID.to_list())"
   ]
  },
  {
   "cell_type": "code",
   "execution_count": 15,
   "metadata": {},
   "outputs": [],
   "source": [
    "merged_train = pandas.merge(train_feat, bmc, left_on='patient_ID', right_on='patient_ID')"
   ]
  },
  {
   "cell_type": "code",
   "execution_count": 16,
   "metadata": {},
   "outputs": [],
   "source": [
    "train_data = merged_train[feature_columns].to_numpy()\n",
    "train_labels = merged_train[label_columns].to_numpy().astype(int)"
   ]
  },
  {
   "cell_type": "code",
   "execution_count": 17,
   "metadata": {},
   "outputs": [
    {
     "data": {
      "text/plain": [
       "2"
      ]
     },
     "execution_count": 17,
     "metadata": {},
     "output_type": "execute_result"
    }
   ],
   "source": [
    "train_labels.flatten().max()"
   ]
  },
  {
   "cell_type": "code",
   "execution_count": 18,
   "metadata": {},
   "outputs": [],
   "source": [
    "from catboost import Pool, CatBoostClassifier"
   ]
  },
  {
   "cell_type": "code",
   "execution_count": 19,
   "metadata": {},
   "outputs": [],
   "source": [
    "\n",
    "test_data = catboost_pool = Pool(train_data, \n",
    "                                 train_labels)\n"
   ]
  },
  {
   "cell_type": "code",
   "execution_count": 24,
   "metadata": {},
   "outputs": [
    {
     "name": "stdout",
     "output_type": "stream",
     "text": [
      "0:\tlearn: 0.7967950\ttotal: 59.7s\tremaining: 38m 49s\n",
      "1:\tlearn: 0.7552695\ttotal: 1m 4s\tremaining: 20m 16s\n",
      "2:\tlearn: 0.7237539\ttotal: 1m 6s\tremaining: 13m 34s\n",
      "3:\tlearn: 0.7052150\ttotal: 1m 7s\tremaining: 10m 11s\n",
      "4:\tlearn: 0.6802453\ttotal: 1m 9s\tremaining: 8m 4s\n",
      "5:\tlearn: 0.6643927\ttotal: 1m 11s\tremaining: 6m 43s\n",
      "6:\tlearn: 0.6498434\ttotal: 1m 12s\tremaining: 5m 43s\n",
      "7:\tlearn: 0.6390587\ttotal: 1m 14s\tremaining: 4m 58s\n",
      "8:\tlearn: 0.6265640\ttotal: 1m 15s\tremaining: 4m 20s\n",
      "9:\tlearn: 0.6117341\ttotal: 1m 16s\tremaining: 3m 49s\n",
      "10:\tlearn: 0.5935958\ttotal: 1m 17s\tremaining: 3m 24s\n",
      "11:\tlearn: 0.5835994\ttotal: 1m 18s\tremaining: 3m 3s\n",
      "12:\tlearn: 0.5672392\ttotal: 1m 19s\tremaining: 2m 44s\n",
      "13:\tlearn: 0.5517326\ttotal: 1m 20s\tremaining: 2m 29s\n",
      "14:\tlearn: 0.5310425\ttotal: 1m 21s\tremaining: 2m 15s\n",
      "15:\tlearn: 0.5173421\ttotal: 1m 22s\tremaining: 2m 3s\n",
      "16:\tlearn: 0.5050993\ttotal: 1m 23s\tremaining: 1m 53s\n",
      "17:\tlearn: 0.4920774\ttotal: 1m 24s\tremaining: 1m 43s\n",
      "18:\tlearn: 0.4755416\ttotal: 1m 25s\tremaining: 1m 34s\n",
      "19:\tlearn: 0.4674089\ttotal: 1m 26s\tremaining: 1m 26s\n",
      "20:\tlearn: 0.4593489\ttotal: 1m 27s\tremaining: 1m 18s\n",
      "21:\tlearn: 0.4503958\ttotal: 1m 28s\tremaining: 1m 12s\n",
      "22:\tlearn: 0.4395055\ttotal: 1m 29s\tremaining: 1m 5s\n",
      "23:\tlearn: 0.4293888\ttotal: 1m 30s\tremaining: 1m\n",
      "24:\tlearn: 0.4221572\ttotal: 1m 31s\tremaining: 54.7s\n",
      "25:\tlearn: 0.4129429\ttotal: 1m 32s\tremaining: 49.6s\n",
      "26:\tlearn: 0.4076567\ttotal: 1m 33s\tremaining: 44.9s\n",
      "27:\tlearn: 0.4035203\ttotal: 1m 34s\tremaining: 40.5s\n",
      "28:\tlearn: 0.3951325\ttotal: 1m 35s\tremaining: 36.3s\n",
      "29:\tlearn: 0.3878076\ttotal: 1m 37s\tremaining: 32.4s\n",
      "30:\tlearn: 0.3835184\ttotal: 1m 38s\tremaining: 28.5s\n",
      "31:\tlearn: 0.3802439\ttotal: 1m 39s\tremaining: 24.8s\n",
      "32:\tlearn: 0.3726010\ttotal: 1m 40s\tremaining: 21.3s\n",
      "33:\tlearn: 0.3668747\ttotal: 1m 41s\tremaining: 17.9s\n",
      "34:\tlearn: 0.3620963\ttotal: 1m 42s\tremaining: 14.6s\n",
      "35:\tlearn: 0.3577241\ttotal: 1m 43s\tremaining: 11.5s\n",
      "36:\tlearn: 0.3482875\ttotal: 1m 44s\tremaining: 8.45s\n",
      "37:\tlearn: 0.3455678\ttotal: 1m 45s\tremaining: 5.53s\n",
      "38:\tlearn: 0.3380524\ttotal: 1m 46s\tremaining: 2.72s\n",
      "39:\tlearn: 0.3280207\ttotal: 1m 47s\tremaining: 0us\n"
     ]
    },
    {
     "data": {
      "text/plain": [
       "<catboost.core.CatBoostClassifier at 0x7fa9e731e630>"
      ]
     },
     "execution_count": 24,
     "metadata": {},
     "output_type": "execute_result"
    }
   ],
   "source": [
    "\n",
    "model = CatBoostClassifier(iterations=40,\n",
    "                           depth=4,\n",
    "                           learning_rate=1,\n",
    "                           loss_function='MultiClass',\n",
    "                           verbose=True)\n",
    "# train the model\n",
    "model.fit(train_data, train_labels)"
   ]
  },
  {
   "cell_type": "code",
   "execution_count": null,
   "metadata": {},
   "outputs": [],
   "source": []
  }
 ],
 "metadata": {
  "kernelspec": {
   "display_name": "Python 3",
   "language": "python",
   "name": "python3"
  },
  "language_info": {
   "codemirror_mode": {
    "name": "ipython",
    "version": 3
   },
   "file_extension": ".py",
   "mimetype": "text/x-python",
   "name": "python",
   "nbconvert_exporter": "python",
   "pygments_lexer": "ipython3",
   "version": "3.6.10"
  }
 },
 "nbformat": 4,
 "nbformat_minor": 4
}
